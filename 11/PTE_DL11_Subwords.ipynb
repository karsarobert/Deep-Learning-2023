{
  "cells": [
    {
      "cell_type": "markdown",
      "metadata": {
        "id": "view-in-github",
        "colab_type": "text"
      },
      "source": [
        "<a href=\"https://colab.research.google.com/github/karsarobert/Deep-Learning-2023/blob/main/11/PTE_DL11_Subwords.ipynb\" target=\"_parent\"><img src=\"https://colab.research.google.com/assets/colab-badge.svg\" alt=\"Open In Colab\"/></a>"
      ]
    },
    {
      "cell_type": "markdown",
      "metadata": {
        "id": "punL79CN7Ox6"
      },
      "source": [
        "##### Copyright 2020 The TensorFlow Authors."
      ]
    },
    {
      "cell_type": "code",
      "execution_count": null,
      "metadata": {
        "cellView": "form",
        "id": "_ckMIh7O7s6D"
      },
      "outputs": [],
      "source": [
        "#@title Licensed under the Apache License, Version 2.0 (the \"License\");\n",
        "# you may not use this file except in compliance with the License.\n",
        "# You may obtain a copy of the License at\n",
        "#\n",
        "# https://www.apache.org/licenses/LICENSE-2.0\n",
        "#\n",
        "# Unless required by applicable law or agreed to in writing, software\n",
        "# distributed under the License is distributed on an \"AS IS\" BASIS,\n",
        "# WITHOUT WARRANTIES OR CONDITIONS OF ANY KIND, either express or implied.\n",
        "# See the License for the specific language governing permissions and\n",
        "# limitations under the License."
      ]
    },
    {
      "cell_type": "markdown",
      "metadata": {
        "id": "CH5gnvxl-N3U"
      },
      "source": [
        "# Mit tartalmaz egy (al)szó?"
      ]
    },
    {
      "cell_type": "markdown",
      "metadata": {
        "id": "S5Uhzt6vVIB2"
      },
      "source": [
        "<table class=\"tfo-notebook-buttons\" align=\"left\">\n",
        "  <td>\n",
        "    <a target=\"_blank\" href=\"https://colab.research.google.com/github/tensorflow/examples/blob/master/courses/udacity_intro_to_tensorflow_for_deep_learning/l09c06_nlp_subwords.ipynb\"><img src=\"https://www.tensorflow.org/images/colab_logo_32px.png\" />Run in Google Colab</a>\n",
        "  </td>\n",
        "  <td>\n",
        "    <a target=\"_blank\" href=\"https://github.com/tensorflow/examples/blob/master/courses/udacity_intro_to_tensorflow_for_deep_learning/l09c06_nlp_subwords.ipynb\"><img src=\"https://www.tensorflow.org/images/GitHub-Mark-32px.png\" />View source on GitHub</a>\n",
        "  </td>\n",
        "</table>"
      ]
    },
    {
      "cell_type": "markdown",
      "metadata": {
        "id": "ykxAKKa1Dl0s"
      },
      "source": [
        "Ebben a munkafüzetben alszavakkal, vagyis nagyobb szavak darabjaiból álló szavakkal fogunk dolgozni, és megnézzük, hogy ez hogyan befolyásolja a hálózatunkat és a kapcsolódó beágyazásokat."
      ]
    },
    {
      "cell_type": "markdown",
      "metadata": {
        "id": "QQCr_NAT-g5w"
      },
      "source": [
        "## Import TensorFlow and related functions"
      ]
    },
    {
      "cell_type": "code",
      "execution_count": null,
      "metadata": {
        "id": "Q8Wa_ZlX-mPH"
      },
      "outputs": [],
      "source": [
        "import tensorflow as tf\n",
        "\n",
        "from tensorflow.keras.preprocessing.sequence import pad_sequences"
      ]
    },
    {
      "cell_type": "markdown",
      "metadata": {
        "id": "MRHk-4Te-yLJ"
      },
      "source": [
        "## Az eredeti adathalmaz letöltése\n",
        "\n",
        "Az Amazon és a Yelp értékeléseit tartalmazó adathalmazt fogjuk használni. Ez az adatkészlet eredetileg a [itt](https://www.kaggle.com/marklvl/sentiment-labelled-sentences-data-set) oldalról származik."
      ]
    },
    {
      "cell_type": "code",
      "execution_count": null,
      "metadata": {
        "colab": {
          "base_uri": "https://localhost:8080/"
        },
        "id": "XJAxrOLi-02C",
        "outputId": "1763e10b-ef33-41a7-e9ec-78921f890f62"
      },
      "outputs": [
        {
          "output_type": "stream",
          "name": "stdout",
          "text": [
            "--2023-11-28 19:11:15--  https://drive.google.com/uc?id=13ySLC_ue6Umt9RJYSeM2t-V0kCv-4C-P\n",
            "Resolving drive.google.com (drive.google.com)... 74.125.195.139, 74.125.195.138, 74.125.195.100, ...\n",
            "Connecting to drive.google.com (drive.google.com)|74.125.195.139|:443... connected.\n",
            "HTTP request sent, awaiting response... 303 See Other\n",
            "Location: https://doc-08-ak-docs.googleusercontent.com/docs/securesc/ha0ro937gcuc7l7deffksulhg5h7mbp1/r145uqu9up50bdh3v76p5qgt7oc4qkke/1701198675000/11118900490791463723/*/13ySLC_ue6Umt9RJYSeM2t-V0kCv-4C-P?uuid=c7ae6565-9809-4a2d-b13c-b0d398a09283 [following]\n",
            "Warning: wildcards not supported in HTTP.\n",
            "--2023-11-28 19:11:15--  https://doc-08-ak-docs.googleusercontent.com/docs/securesc/ha0ro937gcuc7l7deffksulhg5h7mbp1/r145uqu9up50bdh3v76p5qgt7oc4qkke/1701198675000/11118900490791463723/*/13ySLC_ue6Umt9RJYSeM2t-V0kCv-4C-P?uuid=c7ae6565-9809-4a2d-b13c-b0d398a09283\n",
            "Resolving doc-08-ak-docs.googleusercontent.com (doc-08-ak-docs.googleusercontent.com)... 172.253.117.132, 2607:f8b0:400e:c0a::84\n",
            "Connecting to doc-08-ak-docs.googleusercontent.com (doc-08-ak-docs.googleusercontent.com)|172.253.117.132|:443... connected.\n",
            "HTTP request sent, awaiting response... 200 OK\n",
            "Length: 127831 (125K) [text/csv]\n",
            "Saving to: ‘sentiment.csv’\n",
            "\n",
            "sentiment.csv       100%[===================>] 124.83K  --.-KB/s    in 0.001s  \n",
            "\n",
            "2023-11-28 19:11:15 (117 MB/s) - ‘sentiment.csv’ saved [127831/127831]\n",
            "\n"
          ]
        }
      ],
      "source": [
        "!wget --no-check-certificate \\\n",
        "    https://drive.google.com/uc?id=13ySLC_ue6Umt9RJYSeM2t-V0kCv-4C-P \\\n",
        "    -O sentiment.csv"
      ]
    },
    {
      "cell_type": "code",
      "execution_count": null,
      "metadata": {
        "id": "Dr-EDUKP_HBl"
      },
      "outputs": [],
      "source": [
        "import pandas as pd\n",
        "\n",
        "dataset = pd.read_csv('sentiment.csv')\n",
        "\n",
        "# Just extract out sentences and labels first - we will create subwords here\n",
        "sentences = dataset['text'].tolist()\n",
        "labels = dataset['sentiment'].tolist()"
      ]
    },
    {
      "cell_type": "code",
      "source": [
        "sentences[1]"
      ],
      "metadata": {
        "colab": {
          "base_uri": "https://localhost:8080/",
          "height": 35
        },
        "id": "iNCp4kFrZeEr",
        "outputId": "55f3b895-dcaa-48c2-bd02-08d51ad2978f"
      },
      "execution_count": null,
      "outputs": [
        {
          "output_type": "execute_result",
          "data": {
            "text/plain": [
              "'Good case Excellent value.'"
            ],
            "application/vnd.google.colaboratory.intrinsic+json": {
              "type": "string"
            }
          },
          "metadata": {},
          "execution_count": 22
        }
      ]
    },
    {
      "cell_type": "code",
      "source": [
        "labels[1] # 1 (for positive) or 0 (for negative)"
      ],
      "metadata": {
        "colab": {
          "base_uri": "https://localhost:8080/"
        },
        "id": "LfimjXu6ZkB8",
        "outputId": "962f441b-7d39-4d98-8bb0-4072b0308030"
      },
      "execution_count": null,
      "outputs": [
        {
          "output_type": "execute_result",
          "data": {
            "text/plain": [
              "1"
            ]
          },
          "metadata": {},
          "execution_count": 23
        }
      ]
    },
    {
      "cell_type": "markdown",
      "metadata": {
        "id": "8zut9Wng_R3B"
      },
      "source": [
        "## Hozzunk létre egy subwords adathalmazt\n",
        "\n",
        "A meglévő Amazon és Yelp értékelések adathalmazt használhatjuk a `tensorflow_datasets` `SubwordTextEncoder` funkciójával. A `SubwordTextEncoder.build_from_corpus()` létrehoz nekünk egy tokenizálót. Ezt a funkcionalitást használhatnánk arra is, hogy egy sokkal nagyobb szövegkorpuszból is kapjunk alszavakat, de mi itt csak a meglévő adathalmazunkat fogjuk használni.\n",
        "\n",
        "Az Amazon és a Yelp általunk használt adathalmaza nem túl nagy, ezért csak az 1000 leggyakoribb szóból fogunk létrehozni egy `vocab_size` alszót, valamint minden alszót úgy vágunk le, hogy az legfeljebb 5 karakter legyen.\n"
      ]
    },
    {
      "cell_type": "code",
      "execution_count": null,
      "metadata": {
        "id": "aElsgxia_43g"
      },
      "outputs": [],
      "source": [
        "import tensorflow_datasets as tfds\n",
        "\n",
        "vocab_size = 1000\n",
        "tokenizer = tfds.deprecated.text.SubwordTextEncoder.build_from_corpus(sentences, vocab_size, max_subword_length=5)"
      ]
    },
    {
      "cell_type": "code",
      "execution_count": null,
      "metadata": {
        "colab": {
          "base_uri": "https://localhost:8080/"
        },
        "id": "0XNZWGKqBDc3",
        "outputId": "95120cfa-9f75-4343-9a3a-a1bc3f4a9700"
      },
      "outputs": [
        {
          "output_type": "stream",
          "name": "stdout",
          "text": [
            "If you have several dozen or several hundred contacts then imagine the fun of sending each of them one by one.\n",
            "[364, 39, 31, 69, 500, 775, 197, 293, 38, 117, 69, 500, 775, 399, 123, 475, 775, 79, 62, 86, 3, 506, 241, 683, 557, 775, 1, 429, 38, 15, 69, 123, 26, 210, 232, 15, 507, 80, 361, 478, 789]\n",
            "If \n",
            "you \n",
            "have \n",
            "se\n",
            "veral\n",
            " \n",
            "do\n",
            "ze\n",
            "n \n",
            "or \n",
            "se\n",
            "veral\n",
            " \n",
            "hu\n",
            "nd\n",
            "red\n",
            " \n",
            "con\n",
            "ta\n",
            "ct\n",
            "s \n",
            "then \n",
            "im\n",
            "ag\n",
            "ine\n",
            " \n",
            "the \n",
            "fu\n",
            "n \n",
            "of \n",
            "se\n",
            "nd\n",
            "ing \n",
            "ea\n",
            "ch \n",
            "of \n",
            "them \n",
            "one \n",
            "by \n",
            "one\n",
            ".\n"
          ]
        }
      ],
      "source": [
        "# Check that the tokenizer works appropriately\n",
        "num = 6\n",
        "print(sentences[num])\n",
        "encoded = tokenizer.encode(sentences[num])\n",
        "print(encoded)\n",
        "# Separately print out each subword, decoded\n",
        "for i in encoded:\n",
        "  print(tokenizer.decode([i]))"
      ]
    },
    {
      "cell_type": "markdown",
      "metadata": {
        "id": "gYnbqctXGKcC"
      },
      "source": [
        "## A mondatadatok cseréje kódolt részszavakra\n",
        "\n",
        "Most újra létrehozzuk a gyakorláshoz használt adathalmazt, az egyes mondatok tényleges kódolásával. Ez egyenértékű a `text_to_sequences` művelettel a korábbi gyakorlatokban használt `Tokenizerrel`."
      ]
    },
    {
      "cell_type": "code",
      "execution_count": null,
      "metadata": {
        "id": "rAmql34aGfeV"
      },
      "outputs": [],
      "source": [
        "for i, sentence in enumerate(sentences):\n",
        "  sentences[i] = tokenizer.encode(sentence)"
      ]
    },
    {
      "cell_type": "code",
      "execution_count": null,
      "metadata": {
        "colab": {
          "base_uri": "https://localhost:8080/"
        },
        "id": "jNnee_csG5Iz",
        "outputId": "ee1e576f-a094-4fd4-f548-71880da1449b"
      },
      "outputs": [
        {
          "output_type": "stream",
          "name": "stdout",
          "text": [
            "[625, 677, 626, 274, 380, 633, 148, 844, 789]\n"
          ]
        }
      ],
      "source": [
        "# Check the sentences are appropriately replaced\n",
        "print(sentences[1])"
      ]
    },
    {
      "cell_type": "markdown",
      "metadata": {
        "id": "zpIigjecHVkF"
      },
      "source": [
        "## Végső előfeldolgozás\n",
        "\n",
        "A képzés előtt még fel kell töltenünk a szekvenciákat, valamint fel kell osztanunk a képzési és tesztkészleteket."
      ]
    },
    {
      "cell_type": "code",
      "execution_count": null,
      "metadata": {
        "id": "INIFSAcEHool"
      },
      "outputs": [],
      "source": [
        "import numpy as np\n",
        "\n",
        "max_length = 50\n",
        "trunc_type='post'\n",
        "padding_type='post'\n",
        "\n",
        "# Pad all sentences\n",
        "sentences_padded = pad_sequences(sentences, maxlen=max_length,\n",
        "                                 padding=padding_type, truncating=trunc_type)\n",
        "\n",
        "# Separate out the sentences and labels into training and test sets\n",
        "training_size = int(len(sentences) * 0.8)\n",
        "\n",
        "training_sentences = sentences_padded[0:training_size]\n",
        "testing_sentences = sentences_padded[training_size:]\n",
        "training_labels = labels[0:training_size]\n",
        "testing_labels = labels[training_size:]\n",
        "\n",
        "# Make labels into numpy arrays for use with the network later\n",
        "training_labels_final = np.array(training_labels)\n",
        "testing_labels_final = np.array(testing_labels)"
      ]
    },
    {
      "cell_type": "markdown",
      "metadata": {
        "id": "QC9A-sTpPPiL"
      },
      "source": [
        "## Modell képzése\n",
        "Itt egy kicsit más modellt fogunk használni, a Flatten() helyett a GlobalAveragePooling1D-t használjuk."
      ]
    },
    {
      "cell_type": "code",
      "execution_count": null,
      "metadata": {
        "colab": {
          "base_uri": "https://localhost:8080/"
        },
        "id": "eDKcL64IPcfy",
        "outputId": "46e00db5-66a5-4c22-f026-58d8282863db"
      },
      "outputs": [
        {
          "output_type": "stream",
          "name": "stdout",
          "text": [
            "Model: \"sequential\"\n",
            "_________________________________________________________________\n",
            " Layer (type)                Output Shape              Param #   \n",
            "=================================================================\n",
            " embedding (Embedding)       (None, 50, 16)            16000     \n",
            "                                                                 \n",
            " global_average_pooling1d (  (None, 16)                0         \n",
            " GlobalAveragePooling1D)                                         \n",
            "                                                                 \n",
            " dense (Dense)               (None, 6)                 102       \n",
            "                                                                 \n",
            " dense_1 (Dense)             (None, 1)                 7         \n",
            "                                                                 \n",
            "=================================================================\n",
            "Total params: 16109 (62.93 KB)\n",
            "Trainable params: 16109 (62.93 KB)\n",
            "Non-trainable params: 0 (0.00 Byte)\n",
            "_________________________________________________________________\n"
          ]
        }
      ],
      "source": [
        "embedding_dim = 16\n",
        "model = tf.keras.Sequential([\n",
        "    tf.keras.layers.Embedding(vocab_size, embedding_dim, input_length=max_length),\n",
        "    tf.keras.layers.GlobalAveragePooling1D(),\n",
        "    tf.keras.layers.Dense(6, activation='relu'),\n",
        "    tf.keras.layers.Dense(1, activation='sigmoid')\n",
        "])\n",
        "\n",
        "model.summary()"
      ]
    },
    {
      "cell_type": "code",
      "execution_count": null,
      "metadata": {
        "colab": {
          "base_uri": "https://localhost:8080/"
        },
        "id": "VqkMNtIeP3oz",
        "outputId": "440dddb8-1f8e-45b5-da5b-feb13df10e17"
      },
      "outputs": [
        {
          "output_type": "stream",
          "name": "stdout",
          "text": [
            "Epoch 1/30\n",
            "50/50 [==============================] - 12s 133ms/step - loss: 0.6923 - accuracy: 0.5110 - val_loss: 0.6965 - val_accuracy: 0.4110\n",
            "Epoch 2/30\n",
            "50/50 [==============================] - 7s 139ms/step - loss: 0.6874 - accuracy: 0.5286 - val_loss: 0.6975 - val_accuracy: 0.4236\n",
            "Epoch 3/30\n",
            "50/50 [==============================] - 3s 54ms/step - loss: 0.6811 - accuracy: 0.5568 - val_loss: 0.6926 - val_accuracy: 0.4812\n",
            "Epoch 4/30\n",
            "50/50 [==============================] - 2s 32ms/step - loss: 0.6709 - accuracy: 0.6064 - val_loss: 0.6925 - val_accuracy: 0.4762\n",
            "Epoch 5/30\n",
            "50/50 [==============================] - 2s 38ms/step - loss: 0.6562 - accuracy: 0.6290 - val_loss: 0.6739 - val_accuracy: 0.5539\n",
            "Epoch 6/30\n",
            "50/50 [==============================] - 1s 26ms/step - loss: 0.6352 - accuracy: 0.6918 - val_loss: 0.6569 - val_accuracy: 0.6266\n",
            "Epoch 7/30\n",
            "50/50 [==============================] - 2s 31ms/step - loss: 0.6078 - accuracy: 0.7458 - val_loss: 0.6341 - val_accuracy: 0.6842\n",
            "Epoch 8/30\n",
            "50/50 [==============================] - 1s 11ms/step - loss: 0.5730 - accuracy: 0.7809 - val_loss: 0.6101 - val_accuracy: 0.7168\n",
            "Epoch 9/30\n",
            "50/50 [==============================] - 1s 15ms/step - loss: 0.5378 - accuracy: 0.8230 - val_loss: 0.5859 - val_accuracy: 0.7368\n",
            "Epoch 10/30\n",
            "50/50 [==============================] - 1s 11ms/step - loss: 0.4994 - accuracy: 0.8230 - val_loss: 0.5663 - val_accuracy: 0.7469\n",
            "Epoch 11/30\n",
            "50/50 [==============================] - 1s 11ms/step - loss: 0.4627 - accuracy: 0.8456 - val_loss: 0.5510 - val_accuracy: 0.7419\n",
            "Epoch 12/30\n",
            "50/50 [==============================] - 1s 21ms/step - loss: 0.4290 - accuracy: 0.8594 - val_loss: 0.5269 - val_accuracy: 0.7519\n",
            "Epoch 13/30\n",
            "50/50 [==============================] - 1s 18ms/step - loss: 0.4028 - accuracy: 0.8663 - val_loss: 0.5129 - val_accuracy: 0.7644\n",
            "Epoch 14/30\n",
            "50/50 [==============================] - 0s 6ms/step - loss: 0.3781 - accuracy: 0.8745 - val_loss: 0.5226 - val_accuracy: 0.7494\n",
            "Epoch 15/30\n",
            "50/50 [==============================] - 0s 9ms/step - loss: 0.3522 - accuracy: 0.8795 - val_loss: 0.5017 - val_accuracy: 0.7544\n",
            "Epoch 16/30\n",
            "50/50 [==============================] - 1s 11ms/step - loss: 0.3353 - accuracy: 0.8839 - val_loss: 0.5381 - val_accuracy: 0.7318\n",
            "Epoch 17/30\n",
            "50/50 [==============================] - 1s 14ms/step - loss: 0.3156 - accuracy: 0.8927 - val_loss: 0.5092 - val_accuracy: 0.7469\n",
            "Epoch 18/30\n",
            "50/50 [==============================] - 1s 17ms/step - loss: 0.2980 - accuracy: 0.8927 - val_loss: 0.4976 - val_accuracy: 0.7544\n",
            "Epoch 19/30\n",
            "50/50 [==============================] - 0s 8ms/step - loss: 0.2838 - accuracy: 0.9040 - val_loss: 0.4963 - val_accuracy: 0.7569\n",
            "Epoch 20/30\n",
            "50/50 [==============================] - 1s 11ms/step - loss: 0.2721 - accuracy: 0.9090 - val_loss: 0.5086 - val_accuracy: 0.7544\n",
            "Epoch 21/30\n",
            "50/50 [==============================] - 0s 5ms/step - loss: 0.2586 - accuracy: 0.9146 - val_loss: 0.5011 - val_accuracy: 0.7594\n",
            "Epoch 22/30\n",
            "50/50 [==============================] - 1s 11ms/step - loss: 0.2475 - accuracy: 0.9222 - val_loss: 0.5295 - val_accuracy: 0.7519\n",
            "Epoch 23/30\n",
            "50/50 [==============================] - 0s 6ms/step - loss: 0.2371 - accuracy: 0.9215 - val_loss: 0.5091 - val_accuracy: 0.7594\n",
            "Epoch 24/30\n",
            "50/50 [==============================] - 1s 17ms/step - loss: 0.2282 - accuracy: 0.9284 - val_loss: 0.5311 - val_accuracy: 0.7594\n",
            "Epoch 25/30\n",
            "50/50 [==============================] - 1s 21ms/step - loss: 0.2209 - accuracy: 0.9278 - val_loss: 0.5424 - val_accuracy: 0.7519\n",
            "Epoch 26/30\n",
            "50/50 [==============================] - 1s 12ms/step - loss: 0.2116 - accuracy: 0.9278 - val_loss: 0.5363 - val_accuracy: 0.7569\n",
            "Epoch 27/30\n",
            "50/50 [==============================] - 0s 7ms/step - loss: 0.2086 - accuracy: 0.9335 - val_loss: 0.5367 - val_accuracy: 0.7519\n",
            "Epoch 28/30\n",
            "50/50 [==============================] - 0s 8ms/step - loss: 0.1984 - accuracy: 0.9397 - val_loss: 0.5466 - val_accuracy: 0.7519\n",
            "Epoch 29/30\n",
            "50/50 [==============================] - 0s 10ms/step - loss: 0.1931 - accuracy: 0.9335 - val_loss: 0.5428 - val_accuracy: 0.7619\n",
            "Epoch 30/30\n",
            "50/50 [==============================] - 0s 6ms/step - loss: 0.1843 - accuracy: 0.9441 - val_loss: 0.5628 - val_accuracy: 0.7544\n"
          ]
        }
      ],
      "source": [
        "num_epochs = 30\n",
        "model.compile(loss='binary_crossentropy',optimizer='adam',metrics=['accuracy'])\n",
        "history = model.fit(training_sentences, training_labels_final, epochs=num_epochs,\n",
        "                    validation_data=(testing_sentences, testing_labels_final))"
      ]
    },
    {
      "cell_type": "markdown",
      "metadata": {
        "id": "sj18M42kQkCi"
      },
      "source": [
        "## A képzési adatok vizualizálása\n",
        "\n",
        "Az alábbiakban ismét megjeleníthetjük a képzési grafikont. Látszik-e különbség a validálási pontosság és veszteség tendenciájában a teljes szavakkal való összehasonlításhoz képest?"
      ]
    },
    {
      "cell_type": "code",
      "execution_count": null,
      "metadata": {
        "colab": {
          "base_uri": "https://localhost:8080/",
          "height": 881
        },
        "id": "uy8KIMPIQlvH",
        "outputId": "6122f9aa-442f-4916-f9d7-ab84ebd48927"
      },
      "outputs": [
        {
          "output_type": "display_data",
          "data": {
            "text/plain": [
              "<Figure size 640x480 with 1 Axes>"
            ],
            "image/png": "[encoded data removed]"
          },
          "metadata": {}
        },
        {
          "output_type": "display_data",
          "data": {
            "text/plain": [
              "<Figure size 640x480 with 1 Axes>"
            ],
            "image/png": "[encoded data removed]"
          },
          "metadata": {}
        }
      ],
      "source": [
        "import matplotlib.pyplot as plt\n",
        "\n",
        "\n",
        "def plot_graphs(history, string):\n",
        "  plt.plot(history.history[string])\n",
        "  plt.plot(history.history['val_'+string])\n",
        "  plt.xlabel(\"Epochs\")\n",
        "  plt.ylabel(string)\n",
        "  plt.legend([string, 'val_'+string])\n",
        "  plt.show()\n",
        "\n",
        "plot_graphs(history, \"accuracy\")\n",
        "plot_graphs(history, \"loss\")"
      ]
    },
    {
      "cell_type": "markdown",
      "metadata": {
        "id": "_m7QzouQQ1Rs"
      },
      "source": [
        "## A hálózat vizualizálásához szükséges fájlok letöltése\n",
        "\n",
        "Az alábbi kód segítségével ismét vizualizálhatja az összes alszóhoz kapcsolódó érzelmeket, és az adatok feltöltéséhez és megtekintéséhez a http://projector.tensorflow.org/ oldalra kell menni.\n",
        "\n",
        "Vegye figyelembe, hogy az alábbi kódban van néhány apró változtatás, hogy kezelni tudja a szöveg kódolásának eltérő módját az adatkészletünkben, mint korábban a beépített `Tokenizerrel`.\n",
        "\n",
        "Előfordulhat, hogy a következő hibaüzenet jelenik meg: \"A tenzorok száma (999) nem egyezik a metaadatok sorainak számával (992)\". Mindaddig, amíg először hiba nélkül betöltjük a vektorokat, és várunk néhány másodpercet, miután ez felugrik, a fájl betöltése menüponton kívülre kattintva továbbra is megtekinthetjük a vizualizációt."
      ]
    },
    {
      "cell_type": "code",
      "execution_count": null,
      "metadata": {
        "colab": {
          "base_uri": "https://localhost:8080/"
        },
        "id": "dezs4wE5RMQu",
        "outputId": "d00a1d22-7243-4b45-b2ea-9b79b320b703"
      },
      "outputs": [
        {
          "output_type": "stream",
          "name": "stdout",
          "text": [
            "(1000, 16)\n"
          ]
        }
      ],
      "source": [
        "# First get the weights of the embedding layer\n",
        "e = model.layers[0]\n",
        "weights = e.get_weights()[0]\n",
        "print(weights.shape) # shape: (vocab_size, embedding_dim)"
      ]
    },
    {
      "cell_type": "code",
      "execution_count": null,
      "metadata": {
        "id": "LXKqy9Z1RSmt"
      },
      "outputs": [],
      "source": [
        "import io\n",
        "\n",
        "# Write out the embedding vectors and metadata\n",
        "out_v = io.open('vecs.tsv', 'w', encoding='utf-8')\n",
        "out_m = io.open('meta.tsv', 'w', encoding='utf-8')\n",
        "for word_num in range(0, vocab_size - 1):\n",
        "  word = tokenizer.decode([word_num])\n",
        "  embeddings = weights[word_num]\n",
        "  out_m.write(word + \"\\n\")\n",
        "  out_v.write('\\t'.join([str(x) for x in embeddings]) + \"\\n\")\n",
        "out_v.close()\n",
        "out_m.close()"
      ]
    },
    {
      "cell_type": "code",
      "execution_count": null,
      "metadata": {
        "colab": {
          "base_uri": "https://localhost:8080/",
          "height": 17
        },
        "id": "v04wBMybRoGx",
        "outputId": "69bc2f05-51b5-49da-cc41-2ae7211d6998"
      },
      "outputs": [
        {
          "output_type": "display_data",
          "data": {
            "text/plain": [
              "<IPython.core.display.Javascript object>"
            ],
            "application/javascript": [
              "\n",
              "    async function download(id, filename, size) {\n",
              "      if (!google.colab.kernel.accessAllowed) {\n",
              "        return;\n",
              "      }\n",
              "      const div = document.createElement('div');\n",
              "      const label = document.createElement('label');\n",
              "      label.textContent = `Downloading \"${filename}\": `;\n",
              "      div.appendChild(label);\n",
              "      const progress = document.createElement('progress');\n",
              "      progress.max = size;\n",
              "      div.appendChild(progress);\n",
              "      document.body.appendChild(div);\n",
              "\n",
              "      const buffers = [];\n",
              "      let downloaded = 0;\n",
              "\n",
              "      const channel = await google.colab.kernel.comms.open(id);\n",
              "      // Send a message to notify the kernel that we're ready.\n",
              "      channel.send({})\n",
              "\n",
              "      for await (const message of channel.messages) {\n",
              "        // Send a message to notify the kernel that we're ready.\n",
              "        channel.send({})\n",
              "        if (message.buffers) {\n",
              "          for (const buffer of message.buffers) {\n",
              "            buffers.push(buffer);\n",
              "            downloaded += buffer.byteLength;\n",
              "            progress.value = downloaded;\n",
              "          }\n",
              "        }\n",
              "      }\n",
              "      const blob = new Blob(buffers, {type: 'application/binary'});\n",
              "      const a = document.createElement('a');\n",
              "      a.href = window.URL.createObjectURL(blob);\n",
              "      a.download = filename;\n",
              "      div.appendChild(a);\n",
              "      a.click();\n",
              "      div.remove();\n",
              "    }\n",
              "  "
            ]
          },
          "metadata": {}
        },
        {
          "output_type": "display_data",
          "data": {
            "text/plain": [
              "<IPython.core.display.Javascript object>"
            ],
            "application/javascript": [
              "download(\"download_13acf48e-fa5b-4fa0-beb6-2bf4f320559f\", \"vecs.tsv\", 186403)"
            ]
          },
          "metadata": {}
        },
        {
          "output_type": "display_data",
          "data": {
            "text/plain": [
              "<IPython.core.display.Javascript object>"
            ],
            "application/javascript": [
              "\n",
              "    async function download(id, filename, size) {\n",
              "      if (!google.colab.kernel.accessAllowed) {\n",
              "        return;\n",
              "      }\n",
              "      const div = document.createElement('div');\n",
              "      const label = document.createElement('label');\n",
              "      label.textContent = `Downloading \"${filename}\": `;\n",
              "      div.appendChild(label);\n",
              "      const progress = document.createElement('progress');\n",
              "      progress.max = size;\n",
              "      div.appendChild(progress);\n",
              "      document.body.appendChild(div);\n",
              "\n",
              "      const buffers = [];\n",
              "      let downloaded = 0;\n",
              "\n",
              "      const channel = await google.colab.kernel.comms.open(id);\n",
              "      // Send a message to notify the kernel that we're ready.\n",
              "      channel.send({})\n",
              "\n",
              "      for await (const message of channel.messages) {\n",
              "        // Send a message to notify the kernel that we're ready.\n",
              "        channel.send({})\n",
              "        if (message.buffers) {\n",
              "          for (const buffer of message.buffers) {\n",
              "            buffers.push(buffer);\n",
              "            downloaded += buffer.byteLength;\n",
              "            progress.value = downloaded;\n",
              "          }\n",
              "        }\n",
              "      }\n",
              "      const blob = new Blob(buffers, {type: 'application/binary'});\n",
              "      const a = document.createElement('a');\n",
              "      a.href = window.URL.createObjectURL(blob);\n",
              "      a.download = filename;\n",
              "      div.appendChild(a);\n",
              "      a.click();\n",
              "      div.remove();\n",
              "    }\n",
              "  "
            ]
          },
          "metadata": {}
        },
        {
          "output_type": "display_data",
          "data": {
            "text/plain": [
              "<IPython.core.display.Javascript object>"
            ],
            "application/javascript": [
              "download(\"download_ad6cde9a-1a5c-4a28-922a-de47880e5776\", \"meta.tsv\", 3901)"
            ]
          },
          "metadata": {}
        }
      ],
      "source": [
        "# Download the files\n",
        "try:\n",
        "  from google.colab import files\n",
        "except ImportError:\n",
        "  pass\n",
        "else:\n",
        "  files.download('vecs.tsv')\n",
        "  files.download('meta.tsv')"
      ]
    },
    {
      "cell_type": "markdown",
      "metadata": {
        "id": "DlXsjBqQ1zBw"
      },
      "source": [
        "#Lássuk ugyanezt magyar szövegeken"
      ]
    },
    {
      "cell_type": "code",
      "execution_count": null,
      "metadata": {
        "id": "6yLaPBATeYZ-"
      },
      "outputs": [],
      "source": [
        "hun_sentences = ['A zsebórákból kinőtt karórákat kezdetben jellemzően a nők hordták, majd a 19. századra a férfiak is átvették a szokást. Az első világháborúban már szinte követelmény volt a repülőpilóták karóraviselése, ezután az órapiac fellendült, és a stílusos úriemberek elengedhetetlen kiegészítője lett a karóra. A kilencvenes években a mobiltelefonok elterjedésével a karórák trendje visszaesett, az új generációk már nem ezt ítélik státuszszimbólumnak, hanem a telefon márkáját.']"
      ]
    },
    {
      "cell_type": "code",
      "execution_count": null,
      "metadata": {
        "id": "pvAV6Dw71U2z"
      },
      "outputs": [],
      "source": [
        "import tensorflow_datasets as tfds\n",
        "\n",
        "vocab_size = 1000\n",
        "tokenizer = tfds.deprecated.text.SubwordTextEncoder.build_from_corpus(hun_sentences, vocab_size, max_subword_length=4)"
      ]
    },
    {
      "cell_type": "code",
      "execution_count": null,
      "metadata": {
        "colab": {
          "base_uri": "https://localhost:8080/"
        },
        "id": "d_TbpDiu1U2z",
        "outputId": "e96c74e4-8c7e-4d4b-af45-7aed5047cf41"
      },
      "outputs": [
        {
          "output_type": "stream",
          "name": "stdout",
          "text": [
            "A zsebórákból kinőtt karórákat kezdetben jellemzően a nők hordták, majd a 19. századra a férfiak is átvették a szokást. Az első világháborúban már szinte követelmény volt a repülőpilóták karóraviselése, ezután az órapiac fellendült, és a stílusos úriemberek elengedhetetlen kiegészítője lett a karóra. A kilencvenes években a mobiltelefonok elterjedésével a karórák trendje visszaesett, az új generációk már nem ezt ítélik státuszszimbólumnak, hanem a telefon márkáját.\n",
            "[7, 24, 10, 108, 75, 35, 3, 48, 40, 78, 97, 62, 80, 100, 99, 1, 57, 85, 33, 2, 66, 146, 1, 113, 4, 41, 111, 146, 1, 90, 83, 81, 20, 34, 146, 1, 42, 21, 4, 112, 102, 146, 29, 87, 55, 110, 5, 43, 39, 74, 37, 19, 27, 146, 1, 52, 68, 69, 79, 3, 53, 46, 47, 2, 93, 22, 6, 11, 84, 92, 98, 71, 2, 18, 1, 44, 31, 146, 8, 65, 105, 103, 89, 96, 73, 77, 17, 32, 146, 72, 146, 1, 3, 54, 4, 7, 76, 60, 58, 15, 109, 1, 64, 70, 106, 56, 101, 51, 16, 104, 1, 3, 49, 36, 107, 28, 26, 95, 2, 6, 9, 88, 50, 13, 5, 59, 94, 14, 82, 45, 30, 25, 12, 61, 2, 86, 67, 1, 38, 91, 63, 23, 160]\n",
            "A \n",
            "zseb\n",
            "órák\n",
            "ból \n",
            "kinő\n",
            "tt \n",
            "karó\n",
            "ráka\n",
            "t \n",
            "kezd\n",
            "etbe\n",
            "n \n",
            "jell\n",
            "emző\n",
            "en \n",
            "a \n",
            "nők \n",
            "hord\n",
            "ták\n",
            ", \n",
            "majd\n",
            " \n",
            "a \n",
            "19\n",
            ". \n",
            "száz\n",
            "adra\n",
            " \n",
            "a \n",
            "férf\n",
            "iak \n",
            "is \n",
            "átve\n",
            "tték\n",
            " \n",
            "a \n",
            "szok\n",
            "ást\n",
            ". \n",
            "Az \n",
            "első\n",
            " \n",
            "vilá\n",
            "gháb\n",
            "orúb\n",
            "an \n",
            "már \n",
            "szin\n",
            "te \n",
            "köve\n",
            "telm\n",
            "ény \n",
            "volt\n",
            " \n",
            "a \n",
            "repü\n",
            "lőpi\n",
            "lótá\n",
            "k \n",
            "karó\n",
            "ravi\n",
            "selé\n",
            "se\n",
            ", \n",
            "ezut\n",
            "án \n",
            "az \n",
            "órap\n",
            "iac \n",
            "fell\n",
            "endü\n",
            "lt\n",
            ", \n",
            "és \n",
            "a \n",
            "stíl\n",
            "usos\n",
            " \n",
            "úrie\n",
            "mber\n",
            "ek \n",
            "elen\n",
            "gedh\n",
            "etet\n",
            "len \n",
            "kieg\n",
            "észí\n",
            "tője\n",
            " \n",
            "lett\n",
            " \n",
            "a \n",
            "karó\n",
            "ra\n",
            ". \n",
            "A \n",
            "kile\n",
            "ncve\n",
            "nes \n",
            "évek\n",
            "ben \n",
            "a \n",
            "mobi\n",
            "ltel\n",
            "efon\n",
            "ok \n",
            "elte\n",
            "rjed\n",
            "ésév\n",
            "el \n",
            "a \n",
            "karó\n",
            "rák \n",
            "tren\n",
            "dje \n",
            "viss\n",
            "zaes\n",
            "ett\n",
            ", \n",
            "az \n",
            "új \n",
            "gene\n",
            "ráci\n",
            "ók \n",
            "már \n",
            "nem \n",
            "ezt \n",
            "ítél\n",
            "ik \n",
            "stát\n",
            "uszs\n",
            "zimb\n",
            "ólum\n",
            "nak\n",
            ", \n",
            "hane\n",
            "m \n",
            "a \n",
            "tele\n",
            "fon \n",
            "márk\n",
            "áját\n",
            ".\n"
          ]
        }
      ],
      "source": [
        "# Check that the tokenizer works appropriately\n",
        "num = 0\n",
        "print(hun_sentences[num])\n",
        "encoded = tokenizer.encode(hun_sentences[num])\n",
        "print(encoded)\n",
        "# Separately print out each subword, decoded\n",
        "for i in encoded:\n",
        "  print(tokenizer.decode([i]))"
      ]
    },
    {
      "cell_type": "markdown",
      "metadata": {
        "id": "7SGxVPcf5JGd"
      },
      "source": [
        "#Spacy használata szövegfeldolgozáshoz"
      ]
    },
    {
      "cell_type": "code",
      "execution_count": null,
      "metadata": {
        "colab": {
          "base_uri": "https://localhost:8080/"
        },
        "id": "Z-5vv9D84sT4",
        "outputId": "4a9a43e3-abb0-40f6-b0b6-75306f6dce20"
      },
      "outputs": [
        {
          "output_type": "stream",
          "name": "stdout",
          "text": [
            "Apple Apple\n",
            "is be\n",
            "looking look\n",
            "at at\n",
            "buying buy\n",
            "U.K. U.K.\n",
            "startup startup\n",
            "for for\n",
            "$ $\n",
            "1 1\n",
            "billion billion\n"
          ]
        }
      ],
      "source": [
        "import spacy\n",
        "\n",
        "nlp = spacy.load(\"en_core_web_sm\")\n",
        "doc = nlp(\"Apple is looking at buying U.K. startup for $1 billion\")\n",
        "for token in doc:\n",
        "    print(token.text, token.lemma_)"
      ]
    },
    {
      "cell_type": "code",
      "execution_count": null,
      "metadata": {
        "id": "lYbFjZrV48T9"
      },
      "outputs": [],
      "source": []
    }
  ],
  "metadata": {
    "accelerator": "GPU",
    "colab": {
      "provenance": [],
      "include_colab_link": true
    },
    "kernelspec": {
      "display_name": "Python 3",
      "name": "python3"
    }
  },
  "nbformat": 4,
  "nbformat_minor": 0
}