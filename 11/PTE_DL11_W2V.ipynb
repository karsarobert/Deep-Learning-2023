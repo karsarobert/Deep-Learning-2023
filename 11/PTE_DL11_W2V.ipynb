{
  "nbformat": 4,
  "nbformat_minor": 0,
  "metadata": {
    "colab": {
      "provenance": [],
      "mount_file_id": "1z-WwfMRDKUp2uiPgWmtirCd91ontjpAQ",
      "authorship_tag": "ABX9TyMKrUZ92HajK6A5Vkq7paJi",
      "include_colab_link": true
    },
    "kernelspec": {
      "name": "python3",
      "display_name": "Python 3"
    },
    "language_info": {
      "name": "python"
    }
  },
  "cells": [
    {
      "cell_type": "markdown",
      "metadata": {
        "id": "view-in-github",
        "colab_type": "text"
      },
      "source": [
        "<a href=\"https://colab.research.google.com/github/karsarobert/Deep-Learning-2023/blob/main/11/PTE_DL11_W2V.ipynb\" target=\"_parent\"><img src=\"https://colab.research.google.com/assets/colab-badge.svg\" alt=\"Open In Colab\"/></a>"
      ]
    },
    {
      "cell_type": "markdown",
      "metadata": {
        "id": "opposed-female"
      },
      "source": [
        "# Deep Learning gyakorlat\n",
        "\n",
        "\n",
        "## 11. gyakorlat: word2vec\n",
        "### 2022. november 23."
      ]
    },
    {
      "cell_type": "code",
      "metadata": {
        "id": "Ip3zNq1EMUd8"
      },
      "source": [
        "import numpy as np\n",
        "from gensim.models import KeyedVectors\n",
        "import gensim.downloader as api\n",
        "import gensim # generate similar rövidítése\n",
        "# Gensim egy nyílt forráskódú Python-könyvtár témamodellezéshez, dokumentumfürtözéshez és más, nem felügyelt tanulási feladatokhoz\n",
        "%matplotlib inline"
      ],
      "execution_count": null,
      "outputs": []
    },
    {
      "cell_type": "code",
      "metadata": {
        "id": "nuUhxboOA_D5",
        "colab": {
          "base_uri": "https://localhost:8080/"
        },
        "outputId": "277cd5b5-ab96-4ca1-cf23-5c4c35c43680"
      },
      "source": [
        "word_vectors = api.load(\"glove-wiki-gigaword-100\")"
      ],
      "execution_count": null,
      "outputs": [
        {
          "output_type": "stream",
          "name": "stdout",
          "text": [
            "[==================================================] 100.0% 128.1/128.1MB downloaded\n"
          ]
        }
      ]
    },
    {
      "cell_type": "code",
      "source": [
        "print(list(gensim.downloader.info()['models'].keys()))"
      ],
      "metadata": {
        "colab": {
          "base_uri": "https://localhost:8080/"
        },
        "id": "CfFhQUj9jwzB",
        "outputId": "7f0389ad-91a4-4a70-9a77-c5239f16f993"
      },
      "execution_count": null,
      "outputs": [
        {
          "output_type": "stream",
          "name": "stdout",
          "text": [
            "['fasttext-wiki-news-subwords-300', 'conceptnet-numberbatch-17-06-300', 'word2vec-ruscorpora-300', 'word2vec-google-news-300', 'glove-wiki-gigaword-50', 'glove-wiki-gigaword-100', 'glove-wiki-gigaword-200', 'glove-wiki-gigaword-300', 'glove-twitter-25', 'glove-twitter-50', 'glove-twitter-100', 'glove-twitter-200', '__testing_word2vec-matrix-synopsis']\n"
          ]
        }
      ]
    },
    {
      "cell_type": "code",
      "metadata": {
        "colab": {
          "base_uri": "https://localhost:8080/"
        },
        "id": "BwDdEbR95lzK",
        "outputId": "113810b8-3a2b-4225-8516-1384f6632876"
      },
      "source": [
        "apple = word_vectors.get_vector('apple')\n",
        "pear  = word_vectors.get_vector('pear')\n",
        "dog   = word_vectors.get_vector('dog')\n",
        "hotel = word_vectors.get_vector('hotel')\n",
        "motel = word_vectors.get_vector('motel')\n",
        "bird = word_vectors.get_vector('bird')\n",
        "len(apple), len(pear), len(dog)"
      ],
      "execution_count": null,
      "outputs": [
        {
          "output_type": "execute_result",
          "data": {
            "text/plain": [
              "(100, 100, 100)"
            ]
          },
          "metadata": {},
          "execution_count": 4
        }
      ]
    },
    {
      "cell_type": "code",
      "metadata": {
        "id": "Oi8DLJ4iMabn",
        "colab": {
          "base_uri": "https://localhost:8080/"
        },
        "outputId": "39b8aff8-d815-4aeb-e023-127765bfe72c"
      },
      "source": [
        "apple"
      ],
      "execution_count": null,
      "outputs": [
        {
          "output_type": "execute_result",
          "data": {
            "text/plain": [
              "array([-0.5985   , -0.46321  ,  0.13001  , -0.019576 ,  0.4603   ,\n",
              "       -0.3018   ,  0.8977   , -0.65634  ,  0.66858  , -0.49164  ,\n",
              "        0.037557 , -0.050889 ,  0.6451   , -0.53882  , -0.3765   ,\n",
              "       -0.04312  ,  0.51384  ,  0.17783  ,  0.28596  ,  0.92063  ,\n",
              "       -0.49349  , -0.48583  ,  0.61321  ,  0.78211  ,  0.19254  ,\n",
              "        0.91228  , -0.055596 , -0.12512  , -0.65688  ,  0.068557 ,\n",
              "        0.55629  ,  1.611    , -0.0073642, -0.48879  ,  0.45493  ,\n",
              "        0.96105  , -0.063369 ,  0.17432  ,  0.9814   , -1.3125   ,\n",
              "       -0.15801  , -0.54301  , -0.13888  , -0.26146  , -0.3691   ,\n",
              "        0.26844  , -0.24375  , -0.19484  ,  0.62583  , -0.7377   ,\n",
              "        0.38351  , -0.75004  , -0.39053  ,  0.091498 , -0.36591  ,\n",
              "       -1.4715   , -0.45228  ,  0.2256   ,  1.1412   , -0.38526  ,\n",
              "       -0.06716  ,  0.57288  , -0.39191  ,  0.31302  , -0.29235  ,\n",
              "       -0.96157  ,  0.15154  , -0.21659  ,  0.25103  ,  0.096967 ,\n",
              "        0.2843   ,  1.4296   , -0.50565  , -0.51374  , -0.47218  ,\n",
              "        0.32036  ,  0.023149 ,  0.22623  , -0.09725  ,  0.82126  ,\n",
              "        0.92599  , -1.0086   , -0.38639  ,  0.86408  , -1.206    ,\n",
              "       -0.28528  ,  0.2265   , -0.38773  ,  0.40879  ,  0.59303  ,\n",
              "        0.30769  ,  0.83804  , -0.63655  , -0.44639  , -0.43406  ,\n",
              "       -0.79364  , -0.28675  , -0.034398 ,  1.3431   ,  0.34904  ],\n",
              "      dtype=float32)"
            ]
          },
          "metadata": {},
          "execution_count": 5
        }
      ]
    },
    {
      "cell_type": "code",
      "metadata": {
        "id": "nMzemc_36Cj-"
      },
      "source": [
        "def cosine_similarity(v1, v2):\n",
        "    sim = np.dot(v1, v2)/(np.linalg.norm(v1)*np.linalg.norm(v2))\n",
        "    return np.round(sim, 4)"
      ],
      "execution_count": null,
      "outputs": []
    },
    {
      "cell_type": "code",
      "metadata": {
        "colab": {
          "base_uri": "https://localhost:8080/"
        },
        "id": "GjRlyuiK5-h0",
        "outputId": "e21eb707-27ba-4a8f-aec0-55084cb2fdfa"
      },
      "source": [
        "cosine_similarity(apple, pear), cosine_similarity(apple, dog), cosine_similarity(pear, dog),"
      ],
      "execution_count": null,
      "outputs": [
        {
          "output_type": "execute_result",
          "data": {
            "text/plain": [
              "(0.589, 0.2723, 0.1634)"
            ]
          },
          "metadata": {},
          "execution_count": 7
        }
      ]
    },
    {
      "cell_type": "code",
      "metadata": {
        "colab": {
          "base_uri": "https://localhost:8080/"
        },
        "id": "CqynMyGS6Gik",
        "outputId": "af2e7315-f588-4533-8cb1-94bf30099b16"
      },
      "source": [
        "cosine_similarity(motel, hotel), cosine_similarity(motel, dog), cosine_similarity(hotel, dog), cosine_similarity(motel, apple)"
      ],
      "execution_count": null,
      "outputs": [
        {
          "output_type": "execute_result",
          "data": {
            "text/plain": [
              "(0.7057, 0.3039, 0.2527, 0.1058)"
            ]
          },
          "metadata": {},
          "execution_count": 8
        }
      ]
    },
    {
      "cell_type": "code",
      "metadata": {
        "colab": {
          "base_uri": "https://localhost:8080/"
        },
        "id": "j3hs4RUx6LFT",
        "outputId": "8c5b82db-8501-428a-97f8-776ebed42b31"
      },
      "source": [
        "print('apple-pear:', cosine_similarity(apple, pear))\n",
        "print('apple-dog:', cosine_similarity(apple, dog))\n",
        "print('pear-dog:', cosine_similarity(pear, dog))"
      ],
      "execution_count": null,
      "outputs": [
        {
          "output_type": "stream",
          "name": "stdout",
          "text": [
            "apple-pear: 0.589\n",
            "apple-dog: 0.2723\n",
            "pear-dog: 0.1634\n"
          ]
        }
      ]
    },
    {
      "cell_type": "code",
      "metadata": {
        "colab": {
          "base_uri": "https://localhost:8080/"
        },
        "id": "9DWxy4726Qm7",
        "outputId": "5e1eb778-36ca-495e-c820-d660a818c685"
      },
      "source": [
        "cosine_similarity(word_vectors.get_vector('king')-word_vectors.get_vector('queen'),\n",
        "                  word_vectors.get_vector('man')-word_vectors.get_vector('woman'))"
      ],
      "execution_count": null,
      "outputs": [
        {
          "output_type": "execute_result",
          "data": {
            "text/plain": [
              "0.451"
            ]
          },
          "metadata": {},
          "execution_count": 10
        }
      ]
    },
    {
      "cell_type": "markdown",
      "metadata": {
        "id": "v5qAKNTfL3S6"
      },
      "source": [
        "# queen = (king - man) + woman"
      ]
    },
    {
      "cell_type": "code",
      "metadata": {
        "colab": {
          "base_uri": "https://localhost:8080/"
        },
        "id": "se8R_ov76hNb",
        "outputId": "0694a04f-fdae-4781-d358-ca32d8477703"
      },
      "source": [
        "word_vectors.most_similar(positive=['king', 'woman'], negative=['man'], topn=5)"
      ],
      "execution_count": null,
      "outputs": [
        {
          "output_type": "execute_result",
          "data": {
            "text/plain": [
              "[('queen', 0.7698540687561035),\n",
              " ('monarch', 0.6843381524085999),\n",
              " ('throne', 0.6755736470222473),\n",
              " ('daughter', 0.6594556570053101),\n",
              " ('princess', 0.6520534157752991)]"
            ]
          },
          "metadata": {},
          "execution_count": 11
        }
      ]
    },
    {
      "cell_type": "markdown",
      "metadata": {
        "id": "UMy9CVH86kVH"
      },
      "source": [
        "# Vector műveletek:\n",
        "\n",
        "carrots−carrot=cats−cat\n",
        "\n",
        "carrots=carrot+cats−cat"
      ]
    },
    {
      "cell_type": "code",
      "metadata": {
        "colab": {
          "base_uri": "https://localhost:8080/"
        },
        "id": "3gWaS2Co6VQD",
        "outputId": "169fd3f3-435a-4dd6-87bc-0ef2cea4e098"
      },
      "source": [
        "word_vectors.most_similar(positive=['cats', 'carrot'], negative=['cat'], topn=5)"
      ],
      "execution_count": null,
      "outputs": [
        {
          "output_type": "execute_result",
          "data": {
            "text/plain": [
              "[('carrots', 0.7291209697723389),\n",
              " ('celery', 0.6493768095970154),\n",
              " ('radishes', 0.5637862682342529),\n",
              " ('parsnips', 0.5589132905006409),\n",
              " ('turnips', 0.5551186800003052)]"
            ]
          },
          "metadata": {},
          "execution_count": 12
        }
      ]
    },
    {
      "cell_type": "code",
      "metadata": {
        "colab": {
          "base_uri": "https://localhost:8080/"
        },
        "id": "hdZbvuWx7GrF",
        "outputId": "0e5015a6-380a-4c73-def8-a15ff7559c1c"
      },
      "source": [
        "word_vectors.most_similar('mozart', topn=5)"
      ],
      "execution_count": null,
      "outputs": [
        {
          "output_type": "execute_result",
          "data": {
            "text/plain": [
              "[('beethoven', 0.8112685680389404),\n",
              " ('haydn', 0.7675302028656006),\n",
              " ('brahms', 0.7464078664779663),\n",
              " ('bach', 0.7307978272438049),\n",
              " ('concerto', 0.7186656594276428)]"
            ]
          },
          "metadata": {},
          "execution_count": 13
        }
      ]
    },
    {
      "cell_type": "code",
      "metadata": {
        "colab": {
          "base_uri": "https://localhost:8080/"
        },
        "id": "TfclPvWJ7Z88",
        "outputId": "7c5304ac-690a-4b58-9bd2-cc6b61feaffd"
      },
      "source": [
        "word_vectors.most_similar(positive=['footballer', 'mozart'], negative=['messi'], topn=5)"
      ],
      "execution_count": null,
      "outputs": [
        {
          "output_type": "execute_result",
          "data": {
            "text/plain": [
              "[('composer', 0.591992974281311),\n",
              " ('violin', 0.5915796756744385),\n",
              " ('clarinet', 0.5499355792999268),\n",
              " ('concerto', 0.5435993075370789),\n",
              " ('piano', 0.5414473414421082)]"
            ]
          },
          "metadata": {},
          "execution_count": 14
        }
      ]
    },
    {
      "cell_type": "code",
      "metadata": {
        "colab": {
          "base_uri": "https://localhost:8080/"
        },
        "id": "yxFSFvWB78Y0",
        "outputId": "4923864a-bcab-4d2f-8502-a715a3f0c865"
      },
      "source": [
        "word_vectors.most_similar(positive=['sushi', 'italy'], negative=['japan'], topn=5)"
      ],
      "execution_count": null,
      "outputs": [
        {
          "output_type": "execute_result",
          "data": {
            "text/plain": [
              "[('tapas', 0.6232484579086304),\n",
              " ('chefs', 0.6036166548728943),\n",
              " ('pasta', 0.5818784236907959),\n",
              " ('chef', 0.5807684659957886),\n",
              " ('dessert', 0.5793001651763916)]"
            ]
          },
          "metadata": {},
          "execution_count": 15
        }
      ]
    },
    {
      "cell_type": "code",
      "metadata": {
        "colab": {
          "base_uri": "https://localhost:8080/"
        },
        "id": "aCrIoOoV9dy5",
        "outputId": "0a5b7fbf-fed3-46fe-9a78-0c03994ae33a"
      },
      "source": [
        "word_vectors.most_similar(positive=['sushi', 'hungary'], negative=['japan'], topn=5)"
      ],
      "execution_count": null,
      "outputs": [
        {
          "output_type": "execute_result",
          "data": {
            "text/plain": [
              "[('pancakes', 0.5455182194709778),\n",
              " ('lasagna', 0.521327793598175),\n",
              " ('gravy', 0.5132716298103333),\n",
              " ('bistro', 0.5092969536781311),\n",
              " ('dessert', 0.5028696060180664)]"
            ]
          },
          "metadata": {},
          "execution_count": 16
        }
      ]
    },
    {
      "cell_type": "code",
      "metadata": {
        "colab": {
          "base_uri": "https://localhost:8080/"
        },
        "id": "smBFepj49waC",
        "outputId": "01ba4761-e220-427d-a1d0-15c5ad08dd3a"
      },
      "source": [
        "word_vectors.most_similar(\"goulash\")"
      ],
      "execution_count": null,
      "outputs": [
        {
          "output_type": "execute_result",
          "data": {
            "text/plain": [
              "[('cassoulet', 0.602324903011322),\n",
              " ('oxtail', 0.5868507623672485),\n",
              " ('minestrone', 0.5722010135650635),\n",
              " ('lentil', 0.5520806908607483),\n",
              " ('consomme', 0.5516889691352844),\n",
              " ('tripe', 0.5477982759475708),\n",
              " ('stews', 0.5284079313278198),\n",
              " ('stew', 0.5281815528869629),\n",
              " ('casseroles', 0.5251286029815674),\n",
              " ('gazpacho', 0.5239716172218323)]"
            ]
          },
          "metadata": {},
          "execution_count": 17
        }
      ]
    },
    {
      "cell_type": "code",
      "metadata": {
        "colab": {
          "base_uri": "https://localhost:8080/",
          "height": 35
        },
        "id": "twauh2879-Kc",
        "outputId": "829f4dee-667e-4699-da13-f0088fdd433f"
      },
      "source": [
        "word_vectors.doesnt_match('germany hungary slovakia usa france italy'.split())"
      ],
      "execution_count": null,
      "outputs": [
        {
          "output_type": "execute_result",
          "data": {
            "text/plain": [
              "'usa'"
            ],
            "application/vnd.google.colaboratory.intrinsic+json": {
              "type": "string"
            }
          },
          "metadata": {},
          "execution_count": 18
        }
      ]
    },
    {
      "cell_type": "code",
      "metadata": {
        "colab": {
          "base_uri": "https://localhost:8080/",
          "height": 35
        },
        "id": "hs4KuP0e-Igc",
        "outputId": "70015955-9af1-442c-be5e-5475a897f4a4"
      },
      "source": [
        "word_vectors.doesnt_match('einstein hawking darwin bohr curie tesla'.split())"
      ],
      "execution_count": null,
      "outputs": [
        {
          "output_type": "execute_result",
          "data": {
            "text/plain": [
              "'darwin'"
            ],
            "application/vnd.google.colaboratory.intrinsic+json": {
              "type": "string"
            }
          },
          "metadata": {},
          "execution_count": 19
        }
      ]
    },
    {
      "cell_type": "code",
      "metadata": {
        "colab": {
          "base_uri": "https://localhost:8080/",
          "height": 35
        },
        "id": "anUdfBfWT4lZ",
        "outputId": "a689701a-1a01-4b85-b702-3bae9e1c5912"
      },
      "source": [
        "word_vectors.doesnt_match('einstein hawking darwin bohr curie tesla'.split())"
      ],
      "execution_count": null,
      "outputs": [
        {
          "output_type": "execute_result",
          "data": {
            "text/plain": [
              "'darwin'"
            ],
            "application/vnd.google.colaboratory.intrinsic+json": {
              "type": "string"
            }
          },
          "metadata": {},
          "execution_count": 20
        }
      ]
    },
    {
      "cell_type": "code",
      "metadata": {
        "id": "nKxDi-v8Bhf1",
        "colab": {
          "base_uri": "https://localhost:8080/",
          "height": 35
        },
        "outputId": "fa47f611-aa7e-43f6-d826-aef7d3f10030"
      },
      "source": [
        "word_vectors.doesnt_match('physics mathematics chemistry biology history'.split())"
      ],
      "execution_count": null,
      "outputs": [
        {
          "output_type": "execute_result",
          "data": {
            "text/plain": [
              "'history'"
            ],
            "application/vnd.google.colaboratory.intrinsic+json": {
              "type": "string"
            }
          },
          "metadata": {},
          "execution_count": 21
        }
      ]
    },
    {
      "cell_type": "code",
      "source": [
        "results = word_vectors.most_similar(positive=['rupee', 'japan'], negative=['india'])"
      ],
      "metadata": {
        "id": "7Ty8JKvFZ4SB"
      },
      "execution_count": null,
      "outputs": []
    },
    {
      "cell_type": "code",
      "metadata": {
        "id": "y-jg4KPVRaFl",
        "colab": {
          "base_uri": "https://localhost:8080/"
        },
        "outputId": "d5ad0546-48be-4d54-a2e2-1439962d26ac"
      },
      "source": [
        "results"
      ],
      "execution_count": null,
      "outputs": [
        {
          "output_type": "execute_result",
          "data": {
            "text/plain": [
              "[('peso', 0.7143093943595886),\n",
              " ('yen', 0.6601356267929077),\n",
              " ('dollar', 0.6416549682617188),\n",
              " ('drachma', 0.6304432153701782),\n",
              " ('greenback', 0.6244412660598755),\n",
              " ('ruble', 0.6096675992012024),\n",
              " ('renminbi', 0.6056637763977051),\n",
              " ('currency', 0.5956889390945435),\n",
              " ('devaluation', 0.5909512042999268),\n",
              " ('currencies', 0.5899966955184937)]"
            ]
          },
          "metadata": {},
          "execution_count": 47
        }
      ]
    },
    {
      "cell_type": "markdown",
      "source": [
        "#Más word2vec modellek"
      ],
      "metadata": {
        "id": "NoBX5pB1bcyB"
      }
    },
    {
      "cell_type": "code",
      "metadata": {
        "id": "-KHia_iD0CfI",
        "colab": {
          "base_uri": "https://localhost:8080/"
        },
        "outputId": "5a302092-c442-48db-d458-b91818309930"
      },
      "source": [
        "!gdown --id 11QC_ORd8ixR1kmA0WtA7RcFju4Xmh2A9\n"
      ],
      "execution_count": null,
      "outputs": [
        {
          "output_type": "stream",
          "name": "stdout",
          "text": [
            "/usr/local/lib/python3.10/dist-packages/gdown/cli.py:121: FutureWarning: Option `--id` was deprecated in version 4.3.1 and will be removed in 5.0. You don't need to pass it anymore to use a file ID.\n",
            "  warnings.warn(\n",
            "Downloading...\n",
            "From: https://drive.google.com/uc?id=11QC_ORd8ixR1kmA0WtA7RcFju4Xmh2A9\n",
            "To: /content/GoogleNews-vectors-negative300.bin\n",
            "100% 3.64G/3.64G [00:45<00:00, 79.6MB/s]\n"
          ]
        }
      ]
    },
    {
      "cell_type": "code",
      "metadata": {
        "id": "EOphHJS2MWAG"
      },
      "source": [
        "%%time\n",
        "en_w2v = KeyedVectors.load_word2vec_format('GoogleNews-vectors-negative300.bin', binary=True)"
      ],
      "execution_count": null,
      "outputs": []
    },
    {
      "cell_type": "code",
      "source": [
        "!wget http://corpus.nytud.hu/efnilex-vect/data/hunembed0.0.tgz"
      ],
      "metadata": {
        "colab": {
          "base_uri": "https://localhost:8080/"
        },
        "id": "DyhkmMHpVJZG",
        "outputId": "b009ea4d-aa1a-45b7-d0bd-ffdc3e7018f7"
      },
      "execution_count": null,
      "outputs": [
        {
          "output_type": "stream",
          "name": "stdout",
          "text": [
            "--2023-11-28 17:54:44--  http://corpus.nytud.hu/efnilex-vect/data/hunembed0.0.tgz\n",
            "Resolving corpus.nytud.hu (corpus.nytud.hu)... 193.6.194.65\n",
            "Connecting to corpus.nytud.hu (corpus.nytud.hu)|193.6.194.65|:80... connected.\n",
            "HTTP request sent, awaiting response... 200 OK\n",
            "Length: 3745412991 (3.5G) [application/x-gzip]\n",
            "Saving to: ‘hunembed0.0.tgz’\n",
            "\n",
            "hunembed0.0.tgz     100%[===================>]   3.49G  22.0MB/s    in 2m 45s  \n",
            "\n",
            "2023-11-28 17:57:30 (21.6 MB/s) - ‘hunembed0.0.tgz’ saved [3745412991/3745412991]\n",
            "\n"
          ]
        }
      ]
    },
    {
      "cell_type": "code",
      "source": [
        "!tar -xvf hunembed0.0.tgz # 10 Gb colab nem tudja kezelni"
      ],
      "metadata": {
        "colab": {
          "base_uri": "https://localhost:8080/"
        },
        "id": "mHlb_AqWbPzE",
        "outputId": "89b864a3-d4bd-43e2-f836-abb084a59f3c"
      },
      "execution_count": null,
      "outputs": [
        {
          "output_type": "stream",
          "name": "stdout",
          "text": [
            "word2vec-mnsz2-webcorp_600_w10_n5_i1_m10.w2v\n",
            "^C\n"
          ]
        }
      ]
    },
    {
      "cell_type": "code",
      "source": [
        "hun_w2v = KeyedVectors.load_word2vec_format('word2vec-mnsz2-webcorp_600_w10_n5_i1_m10.w2v')"
      ],
      "metadata": {
        "id": "PlrxD1Lnb9_p"
      },
      "execution_count": null,
      "outputs": []
    },
    {
      "cell_type": "code",
      "source": [
        "alma = hun_w2v.get_vector('alma')"
      ],
      "metadata": {
        "id": "-7BwUtLrcPzZ"
      },
      "execution_count": null,
      "outputs": []
    },
    {
      "cell_type": "code",
      "source": [
        "!wget http://www.inf.u-szeged.hu/~szantozs/fasttext/hu.szte.w2v.bin"
      ],
      "metadata": {
        "id": "7_d-zz6SdG4q"
      },
      "execution_count": null,
      "outputs": []
    },
    {
      "cell_type": "code",
      "source": [],
      "metadata": {
        "id": "-sFBgnF7gWcR"
      },
      "execution_count": null,
      "outputs": []
    },
    {
      "cell_type": "code",
      "source": [],
      "metadata": {
        "id": "gLZ-bL2ruE3Y"
      },
      "execution_count": null,
      "outputs": []
    }
  ]
}