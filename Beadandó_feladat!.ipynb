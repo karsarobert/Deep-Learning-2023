{
  "nbformat": 4,
  "nbformat_minor": 0,
  "metadata": {
    "colab": {
      "provenance": [],
      "authorship_tag": "ABX9TyMu2PlpTpBUv973iXgUz66p",
      "include_colab_link": true
    },
    "kernelspec": {
      "name": "python3",
      "display_name": "Python 3"
    },
    "language_info": {
      "name": "python"
    }
  },
  "cells": [
    {
      "cell_type": "markdown",
      "metadata": {
        "id": "view-in-github",
        "colab_type": "text"
      },
      "source": [
        "<a href=\"https://colab.research.google.com/github/karsarobert/Deep-Learning-2023/blob/main/Beadand%C3%B3_feladat!.ipynb\" target=\"_parent\"><img src=\"https://colab.research.google.com/assets/colab-badge.svg\" alt=\"Open In Colab\"/></a>"
      ]
    },
    {
      "cell_type": "markdown",
      "source": [
        "###Beadandó feladat!\n",
        "\n",
        "Deep Learning 2003 beadandó feladat!\n",
        "\n",
        "Készítsen az alábbiakban letölthető fájlok segítségével egy a röntgen felvételeket értékelő bináris osztályozót. A felvételeken egészséges és beteg emberekhez tartozó röntgen képek találhatóak.\n",
        "A feladatot konvolúciós neurális hálózat segítségével valósítsa meg!\n",
        "Használjon korai leállítást, értékelje a modellt annak a pontosságával!\n",
        "Rajzolja ki a költségfügvény alakaulását (Loss) és szövegesen értékelje ki!\n",
        "Az elkészült modellt mentse el.\n",
        "A test adatokon értékelje a modelljét!\n",
        "A legjobb eredményt folyamatosan megosztom a Teamsben.\n",
        "\n",
        "Beküldési határidő: 2023.december 22."
      ],
      "metadata": {
        "id": "_WBUqq2WEf_B"
      }
    },
    {
      "cell_type": "code",
      "execution_count": null,
      "metadata": {
        "colab": {
          "base_uri": "https://localhost:8080/"
        },
        "id": "QY_OKBOwDEMa",
        "outputId": "126d7134-7e25-4e98-d559-e6880522fbdd"
      },
      "outputs": [
        {
          "output_type": "stream",
          "name": "stdout",
          "text": [
            "Downloading...\n",
            "From: https://drive.google.com/uc?id=1FfgdLCOpDlJZLp0MGohTh1sf4LgHICrN\n",
            "To: /content/DL_beadandó.zip\n",
            "100% 412M/412M [00:04<00:00, 86.0MB/s]\n"
          ]
        }
      ],
      "source": [
        "!gdown 1FfgdLCOpDlJZLp0MGohTh1sf4LgHICrN"
      ]
    },
    {
      "cell_type": "code",
      "source": [
        "!unzip DL_beadandó.zip -d XRAY"
      ],
      "metadata": {
        "id": "qnzpZD9BDFPR"
      },
      "execution_count": null,
      "outputs": []
    },
    {
      "cell_type": "code",
      "source": [],
      "metadata": {
        "id": "w7gsyfZBDwP0"
      },
      "execution_count": null,
      "outputs": []
    }
  ]
}