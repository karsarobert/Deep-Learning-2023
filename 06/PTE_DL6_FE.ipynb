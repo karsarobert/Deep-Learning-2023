{
  "nbformat": 4,
  "nbformat_minor": 0,
  "metadata": {
    "colab": {
      "provenance": [],
      "include_colab_link": true
    },
    "kernelspec": {
      "name": "python3",
      "display_name": "Python 3"
    },
    "accelerator": "GPU"
  },
  "cells": [
    {
      "cell_type": "markdown",
      "metadata": {
        "id": "view-in-github",
        "colab_type": "text"
      },
      "source": [
        "<a href=\"https://colab.research.google.com/github/karsarobert/Deep-Learning-2023/blob/main/06/PTE_DL6_FE.ipynb\" target=\"_parent\"><img src=\"https://colab.research.google.com/assets/colab-badge.svg\" alt=\"Open In Colab\"/></a>"
      ]
    },
    {
      "cell_type": "markdown",
      "metadata": {
        "id": "opposed-female"
      },
      "source": [
        "# Deep Learning gyakorlat\n",
        "\n",
        "\n",
        "## 6. gyakorlat: transfer learning\n",
        "### 2023. október 11."
      ]
    },
    {
      "cell_type": "markdown",
      "source": [
        "forrás: https://github.com/mrdbourke/tensorflow-deep-learning"
      ],
      "metadata": {
        "id": "iwz-vVsX0KDW"
      }
    },
    {
      "cell_type": "markdown",
      "metadata": {
        "id": "ObwiuiGkZb87"
      },
      "source": [
        "#transfer learning, Feature Extraction\n",
        "\n",
        "Építettünk egy csomó konvolúciós neurális hálózatot a semmiből, és úgy tűnik, hogy mind tanulnak, azonban még mindig rengeteg lehetőség van a fejlődésre.\n",
        "\n",
        "A modell(ek) javításához eltölthetünk egy kis időt különböző konfigurációk kipróbálásával, több réteg hozzáadásával, a tanulási sebesség megváltoztatásával, a rétegenkénti neuronok számának beállításával és még sok mással.\n",
        "\n",
        "Ennek elvégzése azonban nagyon időigényes.\n",
        "\n",
        "Szerencsére van egy technika, amellyel időt takaríthatunk meg.\n",
        "\n",
        "Ezt **transzfer-tanulásnak** hívják, más szóval, egy másik modell által egy másik problémából megtanult mintákat (más néven súlyokat) veszünk, és felhasználjuk a saját problémánkhoz.\n",
        "\n",
        "A transzfer tanulás alkalmazásának két fő előnye van:\n",
        "1. Felhasználhatunk egy meglévő neurális hálózati architektúrát, amely bizonyítottan működik a miénkhez hasonló problémákon.\n",
        "2. Olyan működő neurális hálózati architektúrát használhatunk fel, amely **már megtanult** mintákat a miénkhez hasonló adatokon. Ez gyakran azt eredményezi, hogy kevesebb egyedi adattal is nagyszerű eredményeket érhetünk el.\n",
        "\n",
        "Ez azt jelenti, hogy ahelyett, hogy saját neurális hálózati architektúrát készítenénk vagy a semmiből építenénk, felhasználhatunk olyan modelleket, amelyek másoknál már beváltak.\n",
        "\n",
        "Ahelyett pedig, hogy a saját modelljeinket a semmiből képeznénk ki saját adathalmazainkon, az olyan adathalmazokból, mint például az [ImageNet](http://www.image-net.org/) (több millió különböző tárgyat ábrázoló kép) tanult mintákat vehetjük alapul, és használhatjuk azokat a saját modelljeink alapjául. Ha így járunk el, gyakran kevesebb adatból is nagyszerű eredményeket érhetünk el.\n"
      ]
    },
    {
      "cell_type": "markdown",
      "metadata": {
        "id": "UTWetPM7AWfY"
      },
      "source": [
        "## GPU használata\n",
        "\n",
        "Először is ellenőrizzük, hogy használunk-e GPU-t. A GPU használata biztosítja, hogy a modellünk gyorsabban edződjön, mintha csak a CPU-t használnánk.\n"
      ]
    },
    {
      "cell_type": "code",
      "metadata": {
        "id": "Nq4kxIpQMpZT",
        "colab": {
          "base_uri": "https://localhost:8080/"
        },
        "outputId": "7421f2b8-940a-471c-e18a-86bd4ce1f12f"
      },
      "source": [
        "# Are we using a GPU?\n",
        "!nvidia-smi"
      ],
      "execution_count": null,
      "outputs": [
        {
          "output_type": "stream",
          "name": "stdout",
          "text": [
            "Tue Oct 10 12:07:32 2023       \n",
            "+-----------------------------------------------------------------------------+\n",
            "| NVIDIA-SMI 525.105.17   Driver Version: 525.105.17   CUDA Version: 12.0     |\n",
            "|-------------------------------+----------------------+----------------------+\n",
            "| GPU  Name        Persistence-M| Bus-Id        Disp.A | Volatile Uncorr. ECC |\n",
            "| Fan  Temp  Perf  Pwr:Usage/Cap|         Memory-Usage | GPU-Util  Compute M. |\n",
            "|                               |                      |               MIG M. |\n",
            "|===============================+======================+======================|\n",
            "|   0  Tesla T4            Off  | 00000000:00:04.0 Off |                    0 |\n",
            "| N/A   49C    P0    27W /  70W |   4901MiB / 15360MiB |      0%      Default |\n",
            "|                               |                      |                  N/A |\n",
            "+-------------------------------+----------------------+----------------------+\n",
            "                                                                               \n",
            "+-----------------------------------------------------------------------------+\n",
            "| Processes:                                                                  |\n",
            "|  GPU   GI   CI        PID   Type   Process name                  GPU Memory |\n",
            "|        ID   ID                                                   Usage      |\n",
            "|=============================================================================|\n",
            "+-----------------------------------------------------------------------------+\n"
          ]
        }
      ]
    },
    {
      "cell_type": "markdown",
      "metadata": {
        "id": "Ol3NDTVlRLSv"
      },
      "source": [
        "Ha a fenti cella nem ad ki valamit, ami úgy néz ki, mint:\n",
        "\n",
        "```\n",
        "Fri Sep  4 03:35:21 2020       \n",
        "+-----------------------------------------------------------------------------+\n",
        "| NVIDIA-SMI 450.66       Driver Version: 418.67       CUDA Version: 10.1     |\n",
        "|-------------------------------+----------------------+----------------------+\n",
        "| GPU  Name        Persistence-M| Bus-Id        Disp.A | Volatile Uncorr. ECC |\n",
        "| Fan  Temp  Perf  Pwr:Usage/Cap|         Memory-Usage | GPU-Util  Compute M. |\n",
        "|                               |                      |               MIG M. |\n",
        "|===============================+======================+======================|\n",
        "|   0  Tesla P100-PCIE...  Off  | 00000000:00:04.0 Off |                    0 |\n",
        "| N/A   35C    P0    26W / 250W |      0MiB / 16280MiB |      0%      Default |\n",
        "|                               |                      |                 ERR! |\n",
        "+-------------------------------+----------------------+----------------------+\n",
        "                                                                               \n",
        "+-----------------------------------------------------------------------------+\n",
        "| Processes:                                                                  |\n",
        "|  GPU   GI   CI        PID   Type   Process name                  GPU Memory |\n",
        "|        ID   ID                                                   Usage      |\n",
        "|=============================================================================|\n",
        "|  No running processes found                                                 |\n",
        "+-----------------------------------------------------------------------------+\n",
        "```\n",
        "\n",
        "Menj a Futtatókörnyezet -> Futtatókörnyezet módosítása -> Hardveres gyorsítás és válaszd a \"GPU\" lehetőséget, majd futtasd újra a fenti cellát."
      ]
    },
    {
      "cell_type": "markdown",
      "metadata": {
        "id": "7NY09457NKv4"
      },
      "source": [
        "## Transfer learning (transzfer tanulás) TensorFlow Hub segítségével: Nagyszerű eredmények elérése az adatok 10%-ával\n",
        "\n",
        "Sok olyan problémára, amelyre a mélytanulást szeretné használni, jó eséllyel már létezik egy működő modell.\n",
        "\n",
        "És a jó hír az, hogy ezek közül sokhoz hozzáférhet a TensorFlow Hubon.\n",
        "\n",
        "A [TensorFlow Hub](https://tfhub.dev/) a meglévő modellkomponensek tárháza. Ez teszi lehetővé, hogy egy teljesen betanított modellt importálhasson és használhasson, mindössze egy URL segítségével.\n",
        "\n",
        "Ehhez mi lenne, ha azt mondanám, hogy az eredeti adatok mindössze 10%-ával, vagyis 10x kevesebb adattal is nagyjából ugyanazokat az eredményeket (vagy jobbakat) kaphatnánk, mint amit a legjobb modellünk eddig elért.\n",
        "\n",
        "Ez ellentmondásosnak tűnik, igaz?\n",
        "\n",
        "Nem gondolná, hogy több példa arra, hogyan néz ki egy étel képe, jobb eredményekhez vezet?\n",
        "\n",
        "És igazad lenne, ha így gondolnád, általában a több adat jobb eredményekhez vezet.\n",
        "\n",
        "Mi van azonban, ha nincs több adat? Mi lenne, ha osztályonként 750 kép helyett csak 75 kép lenne osztályonként?\n",
        "\n",
        "Egy adott osztályból 675 további kép összegyűjtése hosszú időt vehetne igénybe.\n",
        "\n",
        "Itt jön tehát a képbe a transzfer tanulás másik nagy előnye.\n",
        "\n",
        "**A transzfer tanulás gyakran lehetővé teszi, hogy kevesebb adattal is nagyszerű eredményeket érjünk el.\n",
        "\n",
        "Töltsük le az általunk használt adatok egy részhalmazát, nevezetesen a `10_food_classes` adathalmaz képzési adatainak 10%-át, és használjuk azt egy ételkép-osztályozó betanítására.\n",
        "\n",
        "![](https://raw.githubusercontent.com/mrdbourke/tensorflow-deep-learning/main/images/04-transfer-learning-feature-extraction.png)\n"
      ]
    },
    {
      "cell_type": "markdown",
      "metadata": {
        "id": "UIwVrX6vXb4z"
      },
      "source": [
        "## Adatok letöltése"
      ]
    },
    {
      "cell_type": "code",
      "metadata": {
        "id": "qwWwP657Szfv",
        "colab": {
          "base_uri": "https://localhost:8080/"
        },
        "outputId": "83cfef25-1ea4-4c42-bc00-9b93a466d5d1"
      },
      "source": [
        "# Get data (10% of labels)\n",
        "import zipfile\n",
        "\n",
        "# Download data\n",
        "!wget https://storage.googleapis.com/ztm_tf_course/food_vision/10_food_classes_10_percent.zip\n",
        "\n",
        "# Unzip the downloaded file\n",
        "zip_ref = zipfile.ZipFile(\"10_food_classes_10_percent.zip\", \"r\")\n",
        "zip_ref.extractall()\n",
        "zip_ref.close()"
      ],
      "execution_count": null,
      "outputs": [
        {
          "output_type": "stream",
          "name": "stdout",
          "text": [
            "--2023-10-10 12:07:32--  https://storage.googleapis.com/ztm_tf_course/food_vision/10_food_classes_10_percent.zip\n",
            "Resolving storage.googleapis.com (storage.googleapis.com)... 64.233.181.207, 64.233.182.207, 64.233.183.207, ...\n",
            "Connecting to storage.googleapis.com (storage.googleapis.com)|64.233.181.207|:443... connected.\n",
            "HTTP request sent, awaiting response... 200 OK\n",
            "Length: 168546183 (161M) [application/zip]\n",
            "Saving to: ‘10_food_classes_10_percent.zip.1’\n",
            "\n",
            "10_food_classes_10_ 100%[===================>] 160.74M   243MB/s    in 0.7s    \n",
            "\n",
            "2023-10-10 12:07:33 (243 MB/s) - ‘10_food_classes_10_percent.zip.1’ saved [168546183/168546183]\n",
            "\n"
          ]
        }
      ]
    },
    {
      "cell_type": "code",
      "metadata": {
        "id": "agzJYtfFBl6I",
        "colab": {
          "base_uri": "https://localhost:8080/"
        },
        "outputId": "8e3b7e23-cd3c-4f55-a5db-263e8a4fc959"
      },
      "source": [
        "# Hány kép van az egyes mappákban?\n",
        "import os\n",
        "\n",
        "# Menjünk végig a 10 százalékos adatkönyvtáron\n",
        "for dirpath, dirnames, filenames in os.walk(\"10_food_classes_10_percent\"):\n",
        "  print(f\"There are {len(dirnames)} directories and {len(filenames)} images in '{dirpath}'.\")"
      ],
      "execution_count": null,
      "outputs": [
        {
          "output_type": "stream",
          "name": "stdout",
          "text": [
            "There are 2 directories and 0 images in '10_food_classes_10_percent'.\n",
            "There are 10 directories and 0 images in '10_food_classes_10_percent/train'.\n",
            "There are 0 directories and 75 images in '10_food_classes_10_percent/train/pizza'.\n",
            "There are 0 directories and 75 images in '10_food_classes_10_percent/train/ramen'.\n",
            "There are 0 directories and 75 images in '10_food_classes_10_percent/train/steak'.\n",
            "There are 0 directories and 75 images in '10_food_classes_10_percent/train/fried_rice'.\n",
            "There are 0 directories and 75 images in '10_food_classes_10_percent/train/ice_cream'.\n",
            "There are 0 directories and 75 images in '10_food_classes_10_percent/train/chicken_wings'.\n",
            "There are 0 directories and 75 images in '10_food_classes_10_percent/train/grilled_salmon'.\n",
            "There are 0 directories and 75 images in '10_food_classes_10_percent/train/hamburger'.\n",
            "There are 0 directories and 75 images in '10_food_classes_10_percent/train/chicken_curry'.\n",
            "There are 0 directories and 75 images in '10_food_classes_10_percent/train/sushi'.\n",
            "There are 10 directories and 0 images in '10_food_classes_10_percent/test'.\n",
            "There are 0 directories and 250 images in '10_food_classes_10_percent/test/pizza'.\n",
            "There are 0 directories and 250 images in '10_food_classes_10_percent/test/ramen'.\n",
            "There are 0 directories and 250 images in '10_food_classes_10_percent/test/steak'.\n",
            "There are 0 directories and 250 images in '10_food_classes_10_percent/test/fried_rice'.\n",
            "There are 0 directories and 250 images in '10_food_classes_10_percent/test/ice_cream'.\n",
            "There are 0 directories and 250 images in '10_food_classes_10_percent/test/chicken_wings'.\n",
            "There are 0 directories and 250 images in '10_food_classes_10_percent/test/grilled_salmon'.\n",
            "There are 0 directories and 250 images in '10_food_classes_10_percent/test/hamburger'.\n",
            "There are 0 directories and 250 images in '10_food_classes_10_percent/test/chicken_curry'.\n",
            "There are 0 directories and 250 images in '10_food_classes_10_percent/test/sushi'.\n"
          ]
        }
      ]
    },
    {
      "cell_type": "markdown",
      "metadata": {
        "id": "F0r-zyagV7Qa"
      },
      "source": [
        "Figyelje meg, hogy a képzési könyvtárak mindegyike 750 kép helyett 75 képet tartalmaz. Ez kulcsfontosságú annak bemutatásához, hogy a transzfer tanulás milyen jól működik kevesebb címkézett kép esetén.\n",
        "\n",
        "A tesztkönyvtárak továbbra is ugyanannyi képet tartalmaznak. Ez azt jelenti, hogy kevesebb adaton fogunk gyakorolni, de a modelljeinket ugyanannyi tesztadaton fogjuk kiértékelni."
      ]
    },
    {
      "cell_type": "markdown",
      "metadata": {
        "id": "EES-NoeaXfYT"
      },
      "source": [
        "## Adattöltők létrehozása (az adatok előkészítése)\n",
        "\n",
        "Most, hogy letöltöttük az adatokat, használjuk a [`ImageDataGenerator`](https://www.tensorflow.org/api_docs/python/tf/keras/preprocessing/image/ImageDataGenerator) osztályt a `flow_from_directory` metódussal együtt a képeink betöltésére."
      ]
    },
    {
      "cell_type": "code",
      "metadata": {
        "id": "YAp0GN60S-rK",
        "colab": {
          "base_uri": "https://localhost:8080/"
        },
        "outputId": "98fb18cd-8652-4d10-9068-c5a20bb75d34"
      },
      "source": [
        "# Setup data inputs\n",
        "from tensorflow.keras.preprocessing.image import ImageDataGenerator\n",
        "\n",
        "IMAGE_SHAPE = (224, 224)\n",
        "BATCH_SIZE = 32\n",
        "\n",
        "train_dir = \"10_food_classes_10_percent/train/\"\n",
        "test_dir = \"10_food_classes_10_percent/test/\"\n",
        "\n",
        "train_datagen = ImageDataGenerator(rescale=1/255.)\n",
        "test_datagen = ImageDataGenerator(rescale=1/255.)\n",
        "\n",
        "print(\"Training images:\")\n",
        "train_data_10_percent = train_datagen.flow_from_directory(train_dir,\n",
        "                                               target_size=IMAGE_SHAPE,\n",
        "                                               batch_size=BATCH_SIZE,\n",
        "                                               class_mode=\"categorical\")\n",
        "\n",
        "print(\"Testing images:\")\n",
        "test_data = train_datagen.flow_from_directory(test_dir,\n",
        "                                              target_size=IMAGE_SHAPE,\n",
        "                                              batch_size=BATCH_SIZE,\n",
        "                                              class_mode=\"categorical\")"
      ],
      "execution_count": null,
      "outputs": [
        {
          "output_type": "stream",
          "name": "stdout",
          "text": [
            "Training images:\n",
            "Found 750 images belonging to 10 classes.\n",
            "Testing images:\n",
            "Found 2500 images belonging to 10 classes.\n"
          ]
        }
      ]
    },
    {
      "cell_type": "markdown",
      "metadata": {
        "id": "6QWuVeSvQPoK"
      },
      "source": [
        "Kiváló! Az adatok betöltése után láthatjuk, hogy a képzési adathalmazban 750 kép van, amelyek 10 osztályba tartoznak (osztályonként 75), és 2500 kép van a teszthalmazban, amelyek 10 osztályba tartoznak (osztályonként 250)."
      ]
    },
    {
      "cell_type": "markdown",
      "metadata": {
        "id": "8UP8vA_nYoI7"
      },
      "source": [
        "## Modellek létrehozása a TensorFlow Hub segítségével\n",
        "\n",
        "A múltban a TensorFlow segítségével rétegről rétegre, a semmiből hoztuk létre saját modelljeinket.\n",
        "\n",
        "Most egy hasonló folyamatot fogunk elvégezni, azzal a különbséggel, hogy a modellünk rétegeinek többsége a [TensorFlow Hub](https://tfhub.dev/) forrásból fog származni.\n",
        "\n",
        "Valójában két modellt fogunk használni a TensorFlow Hubból:\n",
        "1. [ResNetV2](https://arxiv.org/abs/1603.05027) - a legmodernebb számítógépes látás modellarchitektúra 2016-ból.\n",
        "2. [EfficientNet](https://arxiv.org/abs/1905.11946) - egy legkorszerűbb számítógépes látás modellarchitektúra 2019-ből.\n",
        "\n",
        "A legkorszerűbb állapot azt jelenti, hogy valamikor mindkét modell elérte a legalacsonyabb hibaarányt az [ImageNet (ILSVRC-2012-CLS)](http://www.image-net.org/), a számítógépes látás benchmarkok arany standardján.\n",
        "\n",
        "Talán elgondolkodik azon, hogy hogyan találja meg ezeket a modelleket a TensorFlow Hubon?\n",
        "\n",
        "Lépések:\n",
        "\n",
        "1. Menj a [tfhub.dev](https://tfhub.dev/) oldalra.\n",
        "2. Válaszd ki a problémád tartományát, pl. \"Image\" (mi ételképeket használunk).\n",
        "3. Válassza ki a TF verzióját, ami a mi esetünkben a TF2.\n",
        "4. Távolítsuk el az összes \"Problem domanin\" szűrőt, kivéve azt a problémát, amin dolgozunk.\n",
        "  * **Jegyzet:** A \"Image feature vector\" szinte bármilyen probléma mellett használható, erre hamarosan rátérünk.\n",
        "5. A felsorolt modellek mind olyan modellek, amelyek potenciálisan felhasználhatók az Ön problémájához.\n",
        "\n",
        "> 🤔 **Kérdés:** *A képosztályozási modellek között sok lehetőséget látok, honnan tudom, melyik a legjobb?*\n",
        "\n",
        "A legmodernebb modellek listáját a [paperswithcode.com](https://www.paperswithcode.com) oldalon tekintheti meg, amely a legfrissebb mélytanulási papírok eredményeinek gyűjtésére szolgáló forrás, amely az általuk közölt eredményekhez kódos implementációkat is tartalmaz.\n",
        "\n",
        "Mivel mi képekkel dolgozunk, a célpontunk az [ImageNet-en legjobban teljesítő modellek](https://paperswithcode.com/sota/image-classification-on-imagenet).\n",
        "\n",
        "Valószínűleg a paperswithcode-on felsorolt modellarchitektúrák közül nem mindegyik jelenik meg a TensorFlow Hub-on. És ez nem baj, attól még használhatjuk, ami elérhető.\n",
        "\n",
        "Ahhoz, hogy megtaláljuk a modelljeinket, szűkítsük le a keresést az Architecture fül segítségével.\n",
        "\n",
        "6. Válasszuk ki a TensorFlow Hubon az Architecture lapot, és megjelenik egy legördülő menü az architektúrák neveivel.\n",
        "  * Az ökölszabály itt általában az, hogy a nagyobb számmal ellátott nevek jobb teljesítményű modelleket jelentenek. Például az EfficientNetB4 jobban teljesít, mint az EfficientNetB0.\n",
        "    * A nagyobb számok azonban azt jelenthetik, hogy hosszabb ideig tart a számításuk.\n",
        "7. Válassza ki az EfficientNetB0-t, és [valami hasonlót kell látnia](https://tfhub.dev/s?module-type=image-classification,image-feature-vector&network-architecture=efficientnet-b0&tf-version=tf2):\n",
        "![](https://raw.githubusercontent.com/mrdbourke/tensorflow-deep-learning/main/images/04-tensorflow-hub-efficientnetb0.png)\n",
        "8. Az \"[efficientnet/b0/feature-vector](https://tfhub.dev/tensorflow/efficientnet/b0/feature-vector/1)\" címre kattintva egy olyan oldalra jutunk, ahol egy \"Copy URL\" gomb található. Ezt az URL-t használhatjuk az EfficientNetB0 erejének kihasználására.\n",
        "  * Az URL másolásával valami ilyesmit kapunk: https://tfhub.dev/tensorflow/efficientnet/b0/feature-vector/1\n",
        "\n",
        "1. **A \"változatlan\" transzfer tanulás** az, amikor egy előre betanított modellt úgy veszünk, ahogy van, és változtatás nélkül alkalmazzuk a feladatra.\n",
        "\n",
        "  * Például sok számítógépes látásmodellt az ImageNet adathalmazon tanítanak be, amely 1000 különböző képosztályt tartalmaz. Ez azt jelenti, hogy egyetlen képet átadva a modellnek, 1000 különböző előrejelzési valószínűségi értéket kapunk (minden osztályhoz 1 értéket).\n",
        "\n",
        "    * Ez hasznos, ha 1000 osztálynyi képet szeretne osztályozni, és ezek mindegyike megegyezik az ImageNet osztályaival, azonban nem hasznos, ha csak az osztályok egy kis részhalmazát szeretné osztályozni (például 10 különböző ételfajtát). A TensorFlow Hubon a `\"/classification\"-t a nevükben tartalmazó modellek biztosítják ezt a fajta funkcionalitást.\n",
        "\n",
        "2. **Tulajdonság-kivonás transzfer tanulás** az, amikor az előzetesen betanított modell által megtanult alapmintákat (más néven súlyokat) felhasználja, és a kimeneteit úgy módosítja, hogy azok jobban megfeleljenek a problémának.\n",
        "\n",
        "  * Tegyük fel például, hogy az Ön által használt előképzett modell 236 különböző réteggel rendelkezik (az EfficientNetB0 236 réteggel rendelkezik), de a legfelső réteg 1000 osztályt ad ki, mivel az ImageNet-en előképzett. Ahhoz, hogy ezt a saját problémájához igazítsa, eltávolíthatja az eredeti aktiválási réteget, és helyettesítheti a sajátjával, de a megfelelő számú kimeneti osztállyal. A fontos része itt az, hogy **csak a legfelső néhány réteg válik edzhetővé, a többi megmarad befagyasztva**.\n",
        "\n",
        "    * Így az összes mögöttes minta megmarad a többi rétegben, és ezeket felhasználhatja a saját problémájához. Ez a fajta transzfer tanulás nagyon hasznos, ha az Ön adatai hasonlóak azokhoz az adatokhoz, amelyeken a modellt előtanították.\n",
        "\n",
        "3. **Finomhangoló transzfer tanulás** az, amikor az előzetesen betanított modell alapjául szolgáló mintákat (más néven súlyokat) a saját problémájához igazítja (finomhangolja).\n",
        "\n",
        "    * Ez általában azt jelenti, hogy az előzetesen betanított modellben lévő rétegek közül **néhányat, sokat vagy az összeset** betanítjuk. Ez akkor hasznos, ha nagy adathalmazzal rendelkezünk (pl. 100+ kép osztályonként), ahol az adataink kissé eltérnek az eredeti modell által betanított adatoktól.\n",
        "\n",
        "Gyakori munkafolyamat, hogy az előképzett modell alsó rétegeiben lévő összes tanult mintát \"befagyasztjuk\", így azok nem képezhetők. Ezután a felső 2-3 réteget képezzük ki, hogy az előképzett modell a kimeneteit az egyéni adatokhoz igazíthassa (**jellemzők kinyerése**).\n",
        "\n",
        "Miután a felső 2-3 réteget betanította, fokozatosan \"feloldhatja\" az újabb és újabb rétegeket, és lefuttathatja a betanítási folyamatot a saját adatain, hogy tovább **finomítsa** az előbetanított modellt.\n",
        "\n",
        "> 🤔 **Kérdés:** *Miért csak a felső 2-3 réteget képezzük ki a jellemző-kivonás során?*\n",
        "\n",
        "Minél lejjebb van egy réteg egy számítógépes látásmodellben, mint például minél közelebb van a bemeneti réteghez, annál nagyobbak a megtanulható jellemzők. Például egy macskák vagy kutyák képeit azonosító számítógépes látásmodell alsó rétege megtanulhatja a lábak körvonalát, míg a kimenethez közelebbi rétegek megtanulhatják a fogak alakját. Gyakran azt szeretné, ha a nagyobb jellemzők (a megtanult mintákat is jellemzőknek nevezik) megmaradnának, mivel ezek mindkét állat esetében hasonlóak, míg a különbségek a finomabb szemcséjű jellemzőkben maradnak meg.\n",
        "\n",
        "![](https://raw.githubusercontent.com/mrdbourke/tensorflow-deep-learning/main/images/04-different-kinds-of-transfer-learning.png)\n",
        "*A transzfer tanulás különböző fajtái. Egy eredeti modell, egy feature extraction modell (csak a felső 2-3 réteg változik) és egy finomhangoló modell (az eredeti modell sok vagy az egész modell változik).*.\n"
      ]
    },
    {
      "cell_type": "code",
      "metadata": {
        "id": "xsoE9nUJNN6s"
      },
      "source": [
        "import tensorflow as tf\n",
        "import tensorflow_hub as hub\n",
        "from tensorflow.keras import layers"
      ],
      "execution_count": null,
      "outputs": []
    },
    {
      "cell_type": "markdown",
      "metadata": {
        "id": "nvGge7Xevt_F"
      },
      "source": [
        "Most a fenti lépések segítségével a TensorFlow Hubból két elterjedt számítógépes látás architektúra, az [EfficientNetB0 (2019)](https://tfhub.dev/tensorflow/efficientnet/b0/feature-vector/1) és a [ResNetV250 (2016)](https://tfhub.dev/google/imagenet/resnet_v2_50/feature_vector/4) jellemzővektor URL-jét fogjuk megszerezni.\n",
        "\n",
        "Mindkettőt azért szerezzük be, mert össze fogjuk hasonlítani őket, hogy megnézzük, melyik teljesít jobban a mi adatainkon.\n",
        "\n",
        "> 🔑 **Megjegyzés:** A különböző modellarchitektúrák teljesítményének összehasonlítása ugyanazon adatokon nagyon gyakori gyakorlat. Ennek egyszerű oka az, hogy tudni akarjuk, melyik modell teljesít a legjobban a problémánkhoz.\n",
        "\n",
        "2021. augusztus 14-től az [EfficientNet V2 előképzett modelljei elérhetőek a TensorFlow Hubon](https://tfhub.dev/google/collections/efficientnet_v2/1). Az eredeti kód ebben a jegyzetfüzetben az EfficientNet V1-et használja, azt változatlanul hagytuk. Az [ezzel az adatkészlettel végzett kísérleteim](https://github.com/mrdbourke/tensorflow-deep-learning/discussions/166) során a V1 felülmúlja a V2-t. A legjobb, ha a saját adataiddal kísérletezel, és meglátod, mi felel meg neked."
      ]
    },
    {
      "cell_type": "code",
      "metadata": {
        "id": "LZfUivHxOCbP"
      },
      "source": [
        "# Resnet 50 V2 feature vector\n",
        "resnet_url = \"https://tfhub.dev/google/imagenet/resnet_v2_50/feature_vector/4\"\n",
        "\n",
        "# Original: EfficientNetB0 feature vector (version 1)\n",
        "efficientnet_url = \"https://tfhub.dev/tensorflow/efficientnet/b0/feature-vector/1\"\n",
        "\n",
        "# # New: EfficientNetB0 feature vector (version 2)\n",
        "# efficientnet_url = \"https://tfhub.dev/google/imagenet/efficientnet_v2_imagenet1k_b0/feature_vector/2\""
      ],
      "execution_count": null,
      "outputs": []
    },
    {
      "cell_type": "markdown",
      "metadata": {
        "id": "bdwjFaCRwdCX"
      },
      "source": [
        "Ezek az URL-címek a TensorFlow Hubon lévő, elmentett, előzetesen betanított modellre mutatnak.\n",
        "\n",
        "Amikor a modellünkben használjuk őket, a modell automatikusan letöltődik, hogy használhassuk.\n",
        "\n",
        "Ehhez használhatjuk a [`KerasLayer()`](https://www.tensorflow.org/hub/api_docs/python/hub/KerasLayer) modellt a TensorFlow hub könyvtáron belül.\n",
        "\n",
        "Mivel két modellt fogunk összehasonlítani, hogy megspóroljuk magunknak a kódot, létrehozunk egy `create_model()` függvényt. Ez a függvény fogadja egy modell TensorFlow Hub URL címét, instatiál egy Keras szekvenciális modellt a megfelelő számú kimeneti réteggel, és visszaadja a modellt."
      ]
    },
    {
      "cell_type": "code",
      "metadata": {
        "id": "p7vXoqSjId0f"
      },
      "source": [
        "def create_model(model_url, num_classes=10):\n",
        "  \"\"\"Takes a TensorFlow Hub URL and creates a Keras Sequential model with it.\n",
        "\n",
        "  Args:\n",
        "    model_url (str): A TensorFlow Hub feature extraction URL.\n",
        "    num_classes (int): Number of output neurons in output layer,\n",
        "      should be equal to number of target classes, default 10.\n",
        "\n",
        "  Returns:\n",
        "    An uncompiled Keras Sequential model with model_url as feature\n",
        "    extractor layer and Dense output layer with num_classes outputs.\n",
        "  \"\"\"\n",
        "  # Download the pretrained model and save it as a Keras layer\n",
        "  feature_extractor_layer = hub.KerasLayer(model_url,\n",
        "                                           trainable=False, # freeze the underlying patterns\n",
        "                                           name='feature_extraction_layer',\n",
        "                                           input_shape=IMAGE_SHAPE+(3,)) # define the input image shape\n",
        "\n",
        "  # Create our own model\n",
        "  model = tf.keras.Sequential([\n",
        "    feature_extractor_layer, # use the feature extraction layer as the base\n",
        "    layers.Dense(num_classes, activation='softmax', name='output_layer') # create our own output layer\n",
        "  ])\n",
        "\n",
        "  return model"
      ],
      "execution_count": null,
      "outputs": []
    },
    {
      "cell_type": "markdown",
      "metadata": {
        "id": "IirF2Ohlz-6i"
      },
      "source": [
        "Most már van egy függvényünk a modell létrehozására, először is létrehozunk vele egy modellt, amely a ResNetV250 architektúrát használja a jellemzőkivonó rétegként.\n",
        "\n",
        "Miután a modellt instanciáltuk, összeállítjuk azt a `categorical_crossentropy` mint veszteségfüggvényt, az Adam optimalizálót és a pontosságot mint metrikát használva."
      ]
    },
    {
      "cell_type": "code",
      "metadata": {
        "id": "-KVRwwbDT-HL"
      },
      "source": [
        "# Create model\n",
        "resnet_model = create_model(resnet_url, num_classes=train_data_10_percent.num_classes)\n",
        "\n",
        "# Compile\n",
        "resnet_model.compile(loss='categorical_crossentropy',\n",
        "                     optimizer=tf.keras.optimizers.Adam(),\n",
        "                     metrics=['accuracy'])"
      ],
      "execution_count": null,
      "outputs": []
    },
    {
      "cell_type": "markdown",
      "metadata": {
        "id": "ZinVcxBi0jsv"
      },
      "source": [
        "![](https://raw.githubusercontent.com/mrdbourke/tensorflow-deep-learning/main/images/04-resnet-feature-extractor.png)\n",
        "*Hogyan néz ki a jelenlegi modellünk. Egy ResNet50V2 gerinchálózat egy egyedi sűrű réteggel a tetején (10 osztály az 1000 ImageNet osztály helyett). **Jegyzet:** A képen ResNet50 helyett ResNet34 látható. **Kép forrása:** https://arxiv.org/abs/1512.03385.*\n",
        "\n",
        "Ideje illeszteni a modellt.\n",
        "\n",
        "Készen vannak a képzési adatok a `train_data_10_percent`, valamint a tesztadatok, amelyeket `test_data` néven mentettünk el.\n",
        "\n",
        "Tartsuk ezt a kísérletet rövidnek, és 5 epochán keresztül képezzük."
      ]
    },
    {
      "cell_type": "code",
      "metadata": {
        "id": "2GTl0fwE0Hx6",
        "colab": {
          "base_uri": "https://localhost:8080/"
        },
        "outputId": "5d2dfc8f-573c-4a8b-f3fc-529945f3966a"
      },
      "source": [
        "## Fit the model\n",
        "resnet_history = resnet_model.fit(train_data_10_percent,\n",
        "                                  epochs=5,\n",
        "                                  steps_per_epoch=len(train_data_10_percent),\n",
        "                                  validation_data=test_data,\n",
        "                                  validation_steps=len(test_data))\n",
        "                                  # Add TensorBoard callback to model (callbacks parameter takes a list)\n",
        "                                  #callbacks=[create_tensorboard_callback(dir_name=\"tensorflow_hub\", # save experiment logs here\n",
        "                                                                        # experiment_name=\"resnet50V2\")]) # name of log files"
      ],
      "execution_count": null,
      "outputs": [
        {
          "output_type": "stream",
          "name": "stdout",
          "text": [
            "Epoch 1/5\n",
            "24/24 [==============================] - 15s 471ms/step - loss: 1.9931 - accuracy: 0.3413 - val_loss: 1.1992 - val_accuracy: 0.6312\n",
            "Epoch 2/5\n",
            "24/24 [==============================] - 11s 457ms/step - loss: 0.8917 - accuracy: 0.7480 - val_loss: 0.8462 - val_accuracy: 0.7332\n",
            "Epoch 3/5\n",
            "24/24 [==============================] - 10s 443ms/step - loss: 0.6190 - accuracy: 0.8267 - val_loss: 0.7670 - val_accuracy: 0.7548\n",
            "Epoch 4/5\n",
            "24/24 [==============================] - 11s 470ms/step - loss: 0.4769 - accuracy: 0.8693 - val_loss: 0.7003 - val_accuracy: 0.7764\n",
            "Epoch 5/5\n",
            "24/24 [==============================] - 10s 428ms/step - loss: 0.3791 - accuracy: 0.9013 - val_loss: 0.6813 - val_accuracy: 0.7840\n"
          ]
        }
      ]
    },
    {
      "cell_type": "markdown",
      "metadata": {
        "id": "i5SuOe672UJi"
      },
      "source": [
        "Hűha!\n",
        "\n",
        "Úgy tűnik, hogy mindössze 5 epocha után a ResNetV250 jellemző-kivonó modell képes volt minden általunk készített architektúrát kiütni a vízből, 90% körüli pontosságot ért el a gyakorlóhalmazon és közel 80%-os pontosságot a teszthalmazon... **a gyakorló képek mindössze 10%-ával!**.\n",
        "\n",
        "Ez jól mutatja a transzfer tanulás erejét. És ez az egyik fő oka annak, hogy amikor saját adathalmazokat próbál modellezni, érdemes megnézni, milyen előképzett modellek léteznek már.\n",
        "\n",
        "Nézzük meg a modellünk képzési görbéit a `plot_loss_curves` függvény segítségével."
      ]
    },
    {
      "cell_type": "code",
      "metadata": {
        "id": "Ot2QPj41ODCQ"
      },
      "source": [
        "\n",
        "import matplotlib.pyplot as plt\n",
        "\n",
        "# Plot the validation and training data separately\n",
        "def plot_loss_curves(history):\n",
        "  \"\"\"\n",
        "  Returns separate loss curves for training and validation metrics.\n",
        "  \"\"\"\n",
        "  loss = history.history['loss']\n",
        "  val_loss = history.history['val_loss']\n",
        "\n",
        "  accuracy = history.history['accuracy']\n",
        "  val_accuracy = history.history['val_accuracy']\n",
        "\n",
        "  epochs = range(len(history.history['loss']))\n",
        "\n",
        "  # Plot loss\n",
        "  plt.plot(epochs, loss, label='training_loss')\n",
        "  plt.plot(epochs, val_loss, label='val_loss')\n",
        "  plt.title('Loss')\n",
        "  plt.xlabel('Epochs')\n",
        "  plt.legend()\n",
        "\n",
        "  # Plot accuracy\n",
        "  plt.figure()\n",
        "  plt.plot(epochs, accuracy, label='training_accuracy')\n",
        "  plt.plot(epochs, val_accuracy, label='val_accuracy')\n",
        "  plt.title('Accuracy')\n",
        "  plt.xlabel('Epochs')\n",
        "  plt.legend();"
      ],
      "execution_count": null,
      "outputs": []
    },
    {
      "cell_type": "code",
      "metadata": {
        "id": "ywQ9Wr9UODJ_",
        "colab": {
          "base_uri": "https://localhost:8080/",
          "height": 927
        },
        "outputId": "2dbe25eb-13b8-4259-e45b-5cad48a59d42"
      },
      "source": [
        "plot_loss_curves(resnet_history)"
      ],
      "execution_count": null,
      "outputs": [
        {
          "output_type": "display_data",
          "data": {
            "text/plain": [
              "<Figure size 640x480 with 1 Axes>"
            ],
            "image/png": "[encoded data removed]"
          },
          "metadata": {}
        },
        {
          "output_type": "display_data",
          "data": {
            "text/plain": [
              "<Figure size 640x480 with 1 Axes>"
            ],
            "image/png": "[encoded data removed]"
          },
          "metadata": {}
        }
      ]
    },
    {
      "cell_type": "markdown",
      "metadata": {
        "id": "5BGVFEIi3_CT"
      },
      "source": [
        "And what about a summary of our model?"
      ]
    },
    {
      "cell_type": "code",
      "metadata": {
        "id": "aps1FV4qWrZb",
        "colab": {
          "base_uri": "https://localhost:8080/"
        },
        "outputId": "6f33715b-4529-43dc-8848-1f3b35de6dc0"
      },
      "source": [
        "# Resnet summary\n",
        "resnet_model.summary()"
      ],
      "execution_count": null,
      "outputs": [
        {
          "output_type": "stream",
          "name": "stdout",
          "text": [
            "Model: \"sequential_2\"\n",
            "_________________________________________________________________\n",
            " Layer (type)                Output Shape              Param #   \n",
            "=================================================================\n",
            " feature_extraction_layer (  (None, 2048)              23564800  \n",
            " KerasLayer)                                                     \n",
            "                                                                 \n",
            " output_layer (Dense)        (None, 10)                20490     \n",
            "                                                                 \n",
            "=================================================================\n",
            "Total params: 23585290 (89.97 MB)\n",
            "Trainable params: 20490 (80.04 KB)\n",
            "Non-trainable params: 23564800 (89.89 MB)\n",
            "_________________________________________________________________\n"
          ]
        }
      ]
    },
    {
      "cell_type": "markdown",
      "metadata": {
        "id": "okdbmBA0SgCb"
      },
      "source": [
        "A TensorFlow Hub teljesítményét itt tekintheti meg. A jellemzőkinyerő réteg 23 564 800 paraméterrel rendelkezik, amelyek előre megtanult minták, amelyeket a modell már megtanult az ImageNet adathalmazon. Mivel a `trainable=False` értéket állítottuk be, ezek a minták a képzés során befagyasztva maradnak (nem taníthatóak).\n",
        "\n",
        "Ez azt jelenti, hogy a modell a képzés során a kimeneti rétegben lévő 20 490 paramétert frissíti a mi adatállományunknak megfelelően.\n",
        "\n",
        "Oké, betanítottunk egy ResNetV250 modellt, ideje ugyanezt megtenni az EfficientNetB0 modellel.\n",
        "\n",
        "A beállítás pontosan ugyanaz lesz, mint korábban, kivéve a `model_url` paramétert a `create_model()` függvényben."
      ]
    },
    {
      "cell_type": "code",
      "metadata": {
        "id": "MrGi-CpMXHav",
        "colab": {
          "base_uri": "https://localhost:8080/"
        },
        "outputId": "75fa8a25-6738-4ca9-cdc5-945f68448e14"
      },
      "source": [
        "# Create model\n",
        "efficientnet_model = create_model(model_url=efficientnet_url, # use EfficientNetB0 TensorFlow Hub URL\n",
        "                                  num_classes=train_data_10_percent.num_classes)\n",
        "\n",
        "# Compile EfficientNet model\n",
        "efficientnet_model.compile(loss='categorical_crossentropy',\n",
        "                           optimizer=tf.keras.optimizers.Adam(),\n",
        "                           metrics=['accuracy'])\n",
        "\n",
        "# Fit EfficientNet model\n",
        "efficientnet_history = efficientnet_model.fit(train_data_10_percent, # only use 10% of training data\n",
        "                                              epochs=10, # train for 5 epochs\n",
        "                                              steps_per_epoch=len(train_data_10_percent),\n",
        "                                              validation_data=test_data,\n",
        "                                              validation_steps=len(test_data))\n"
      ],
      "execution_count": null,
      "outputs": [
        {
          "output_type": "stream",
          "name": "stdout",
          "text": [
            "Epoch 1/10\n",
            "24/24 [==============================] - 20s 455ms/step - loss: 1.8490 - accuracy: 0.4333 - val_loss: 1.2949 - val_accuracy: 0.7472\n",
            "Epoch 2/10\n",
            "24/24 [==============================] - 9s 401ms/step - loss: 1.0635 - accuracy: 0.7960 - val_loss: 0.8696 - val_accuracy: 0.8232\n",
            "Epoch 3/10\n",
            "24/24 [==============================] - 23s 985ms/step - loss: 0.7569 - accuracy: 0.8400 - val_loss: 0.7004 - val_accuracy: 0.8436\n",
            "Epoch 4/10\n",
            "24/24 [==============================] - 10s 420ms/step - loss: 0.6083 - accuracy: 0.8760 - val_loss: 0.6140 - val_accuracy: 0.8512\n",
            "Epoch 5/10\n",
            "24/24 [==============================] - 10s 418ms/step - loss: 0.5166 - accuracy: 0.8907 - val_loss: 0.5608 - val_accuracy: 0.8596\n",
            "Epoch 6/10\n",
            "24/24 [==============================] - 10s 413ms/step - loss: 0.4467 - accuracy: 0.9053 - val_loss: 0.5242 - val_accuracy: 0.8640\n",
            "Epoch 7/10\n",
            "24/24 [==============================] - 12s 534ms/step - loss: 0.3947 - accuracy: 0.9187 - val_loss: 0.4979 - val_accuracy: 0.8648\n",
            "Epoch 8/10\n",
            "24/24 [==============================] - 10s 426ms/step - loss: 0.3524 - accuracy: 0.9320 - val_loss: 0.4775 - val_accuracy: 0.8692\n",
            "Epoch 9/10\n",
            "24/24 [==============================] - 9s 389ms/step - loss: 0.3146 - accuracy: 0.9467 - val_loss: 0.4603 - val_accuracy: 0.8712\n",
            "Epoch 10/10\n",
            "24/24 [==============================] - 10s 412ms/step - loss: 0.2842 - accuracy: 0.9587 - val_loss: 0.4486 - val_accuracy: 0.8748\n"
          ]
        }
      ]
    },
    {
      "cell_type": "markdown",
      "metadata": {
        "id": "iMbtls4C57Dr"
      },
      "source": [
        "Szent ég! Az EfficientNetB0 modell még jobban teljesít, mint a ResNetV250 modell! Több mint 85%-os pontosságot ér el a tesztkészleten... ismét **a képzési adatok mindössze 10%-ával**.\n",
        "\n",
        "Milyen király ez?\n",
        "\n",
        "Néhány sornyi kóddal képesek vagyunk kihasználni a legmodernebb modelleket, és a saját felhasználási esetünkhöz igazítani őket.\n",
        "\n",
        "Nézzük meg a veszteséggörbéket."
      ]
    },
    {
      "cell_type": "code",
      "metadata": {
        "id": "8UzgNYFdODRB",
        "colab": {
          "base_uri": "https://localhost:8080/",
          "height": 927
        },
        "outputId": "f788215b-7347-41bb-f0b3-2d5d3f5ef459"
      },
      "source": [
        "plot_loss_curves(efficientnet_history)"
      ],
      "execution_count": null,
      "outputs": [
        {
          "output_type": "display_data",
          "data": {
            "text/plain": [
              "<Figure size 640x480 with 1 Axes>"
            ],
            "image/png": "[encoded data removed]"
          },
          "metadata": {}
        },
        {
          "output_type": "display_data",
          "data": {
            "text/plain": [
              "<Figure size 640x480 with 1 Axes>"
            ],
            "image/png": "[encoded data removed]"
          },
          "metadata": {}
        }
      ]
    },
    {
      "cell_type": "markdown",
      "metadata": {
        "id": "pDi4i0H16tSa"
      },
      "source": [
        "Az EfficientNetB0 modell veszteséggörbéi alapján úgy tűnik, hogy ha tovább tanítanánk a modellünket, még tovább javulhatna. Talán ezt ki is próbálhatná?\n",
        "\n",
        "Nézzük meg a modell összefoglalóját."
      ]
    },
    {
      "cell_type": "code",
      "metadata": {
        "id": "clJzUbKpODXA",
        "colab": {
          "base_uri": "https://localhost:8080/"
        },
        "outputId": "f10bf013-8fcc-4599-c861-40da4a3b95bd"
      },
      "source": [
        "efficientnet_model.summary()"
      ],
      "execution_count": null,
      "outputs": [
        {
          "output_type": "stream",
          "name": "stdout",
          "text": [
            "Model: \"sequential_3\"\n",
            "_________________________________________________________________\n",
            " Layer (type)                Output Shape              Param #   \n",
            "=================================================================\n",
            " feature_extraction_layer (  (None, 1280)              4049564   \n",
            " KerasLayer)                                                     \n",
            "                                                                 \n",
            " output_layer (Dense)        (None, 10)                12810     \n",
            "                                                                 \n",
            "=================================================================\n",
            "Total params: 4062374 (15.50 MB)\n",
            "Trainable params: 12810 (50.04 KB)\n",
            "Non-trainable params: 4049564 (15.45 MB)\n",
            "_________________________________________________________________\n"
          ]
        }
      ]
    },
    {
      "cell_type": "markdown",
      "metadata": {
        "id": "KHTMjJG07ElO"
      },
      "source": [
        "Úgy tűnik, hogy annak ellenére, hogy több mint ötször kevesebb paraméterrel rendelkezik (4 049 564 vs. 23 564 800), mint a ResNet50V2 extrakciós réteg, az EfficientNetB0 jellemző extrakciós réteg jobb teljesítményt nyújt. Most már világos, honnan származik a \"hatékony\" elnevezés."
      ]
    },
    {
      "cell_type": "markdown",
      "metadata": {
        "id": "w_YxwuhfRzD5"
      },
      "source": [
        "## 📖 Olvasnivaló\n",
        "\n",
        "* Olvassa át a [TensorFlow Transfer Learning Guide](https://www.tensorflow.org/tutorials/images/transfer_learning) című dokumentumot, és határozza meg saját szavaival a transzfer tanulás két fő típusát.\n",
        "* Nézd végig a [Transfer Learning with TensorFlow Hub tutorial](https://www.tensorflow.org/tutorials/images/transfer_learning_with_hub) című részt."
      ]
    }
  ]
}